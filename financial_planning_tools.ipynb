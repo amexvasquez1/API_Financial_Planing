{
 "cells": [
  {
   "cell_type": "markdown",
   "metadata": {},
   "source": [
    "# Financial Planning with APIs and Simulations\n",
    "\n",
    "In this Challenge, you’ll create two financial analysis tools by using a single Jupyter notebook:\n",
    "\n",
    "Part 1: A financial planner for emergencies. The members will be able to use this tool to visualize their current savings. The members can then determine if they have enough reserves for an emergency fund.\n",
    "\n",
    "Part 2: A financial planner for retirement. This tool will forecast the performance of their retirement portfolio in 30 years. To do this, the tool will make an Alpaca API call via the Alpaca SDK to get historical price data for use in Monte Carlo simulations.\n",
    "\n",
    "You’ll use the information from the Monte Carlo simulation to answer questions about the portfolio in your Jupyter notebook.\n",
    "\n"
   ]
  },
  {
   "cell_type": "code",
   "execution_count": 43,
   "metadata": {},
   "outputs": [],
   "source": [
    "# Import the required libraries and dependencies\n",
    "import os\n",
    "import requests\n",
    "import json\n",
    "import pandas as pd\n",
    "from dotenv import load_dotenv\n",
    "import alpaca_trade_api as tradeapi\n",
    "from MCForecastTools import MCSimulation\n",
    "import datetime\n",
    "\n",
    "%matplotlib inline"
   ]
  },
  {
   "cell_type": "code",
   "execution_count": 2,
   "metadata": {},
   "outputs": [
    {
     "data": {
      "text/plain": [
       "True"
      ]
     },
     "execution_count": 2,
     "metadata": {},
     "output_type": "execute_result"
    }
   ],
   "source": [
    "# Load the environment variables from the .env file\n",
    "#by calling the load_dotenv function\n",
    "load_dotenv()"
   ]
  },
  {
   "cell_type": "markdown",
   "metadata": {},
   "source": [
    "## Part 1: Create a Financial Planner for Emergencies"
   ]
  },
  {
   "cell_type": "markdown",
   "metadata": {},
   "source": [
    "### Evaluate the Cryptocurrency Wallet by Using the Requests Library\n",
    "\n",
    "In this section, you’ll determine the current value of a member’s cryptocurrency wallet. You’ll collect the current prices for the Bitcoin and Ethereum cryptocurrencies by using the Python Requests library. For the prototype, you’ll assume that the member holds the 1.2 Bitcoins (BTC) and 5.3 Ethereum coins (ETH). To do all this, complete the following steps:\n",
    "\n",
    "1. Create a variable named `monthly_income`, and set its value to `12000`.\n",
    "\n",
    "2. Use the Requests library to get the current price (in US dollars) of Bitcoin (BTC) and Ethereum (ETH) by using the API endpoints that the starter code supplies.\n",
    "\n",
    "3. Navigate the JSON response object to access the current price of each coin, and store each in a variable.\n",
    "\n",
    "    > **Hint** Note the specific identifier for each cryptocurrency in the API JSON response. The Bitcoin identifier is `1`, and the Ethereum identifier is `1027`.\n",
    "\n",
    "4. Calculate the value, in US dollars, of the current amount of each cryptocurrency and of the entire cryptocurrency wallet.\n",
    "\n"
   ]
  },
  {
   "cell_type": "code",
   "execution_count": 3,
   "metadata": {},
   "outputs": [],
   "source": [
    "# The current number of coins for each cryptocurrency asset held in the portfolio.\n",
    "btc_coins = 1.2\n",
    "eth_coins = 5.3"
   ]
  },
  {
   "cell_type": "markdown",
   "metadata": {},
   "source": [
    "#### Step 1: Create a variable named `monthly_income`, and set its value to `12000`."
   ]
  },
  {
   "cell_type": "code",
   "execution_count": 4,
   "metadata": {},
   "outputs": [],
   "source": [
    "# The monthly amount for the member's household income\n",
    "monthly_income = 12000\n"
   ]
  },
  {
   "cell_type": "markdown",
   "metadata": {},
   "source": [
    "#### Review the endpoint URLs for the API calls to Free Crypto API in order to get the current pricing information for both BTC and ETH."
   ]
  },
  {
   "cell_type": "code",
   "execution_count": 5,
   "metadata": {},
   "outputs": [],
   "source": [
    "# The Free Crypto API Call endpoint URLs for the held cryptocurrency assets\n",
    "btc_url = \"https://api.alternative.me/v2/ticker/Bitcoin/?convert=USD\"\n",
    "eth_url = \"https://api.alternative.me/v2/ticker/Ethereum/?convert=USD\""
   ]
  },
  {
   "cell_type": "markdown",
   "metadata": {},
   "source": [
    "#### Step 2. Use the Requests library to get the current price (in US dollars) of Bitcoin (BTC) and Ethereum (ETH) by using the API endpoints that the starter code supplied."
   ]
  },
  {
   "cell_type": "code",
   "execution_count": 6,
   "metadata": {},
   "outputs": [
    {
     "name": "stdout",
     "output_type": "stream",
     "text": [
      "{\n",
      "    \"data\": {\n",
      "        \"1\": {\n",
      "            \"circulating_supply\": 18620762,\n",
      "            \"id\": 1,\n",
      "            \"last_updated\": 1612583549,\n",
      "            \"max_supply\": 21000000,\n",
      "            \"name\": \"Bitcoin\",\n",
      "            \"quotes\": {\n",
      "                \"USD\": {\n",
      "                    \"market_cap\": 732350144213,\n",
      "                    \"percent_change_1h\": 0.0468182632602907,\n",
      "                    \"percent_change_24h\": 5.38407016700496,\n",
      "                    \"percent_change_7d\": 15.1987995273566,\n",
      "                    \"percentage_change_1h\": 0.0468182632602907,\n",
      "                    \"percentage_change_24h\": 5.38407016700496,\n",
      "                    \"percentage_change_7d\": 15.1987995273566,\n",
      "                    \"price\": 39341.0,\n",
      "                    \"volume_24h\": 54597490882\n",
      "                }\n",
      "            },\n",
      "            \"rank\": 1,\n",
      "            \"symbol\": \"BTC\",\n",
      "            \"total_supply\": 18620762,\n",
      "            \"website_slug\": \"bitcoin\"\n",
      "        }\n",
      "    },\n",
      "    \"metadata\": {\n",
      "        \"error\": null,\n",
      "        \"num_cryptocurrencies\": 1372,\n",
      "        \"timestamp\": 1612583549\n",
      "    }\n",
      "}\n"
     ]
    }
   ],
   "source": [
    "# Using the Python requests library, make an API call to access the current price of BTC\n",
    "# Use the json.dumps function to review the response data from the API call\n",
    "# Use the indent and sort_keys parameters to make the response object readable\n",
    "\n",
    "btc_response = requests.get(btc_url).json()\n",
    "print(json.dumps(btc_response, indent=4, sort_keys=True))\n"
   ]
  },
  {
   "cell_type": "code",
   "execution_count": 7,
   "metadata": {},
   "outputs": [
    {
     "name": "stdout",
     "output_type": "stream",
     "text": [
      "{\n",
      "    \"data\": {\n",
      "        \"1027\": {\n",
      "            \"circulating_supply\": 114554040,\n",
      "            \"id\": 1027,\n",
      "            \"last_updated\": 1612583535,\n",
      "            \"max_supply\": 0,\n",
      "            \"name\": \"Ethereum\",\n",
      "            \"quotes\": {\n",
      "                \"USD\": {\n",
      "                    \"market_cap\": 192364218863,\n",
      "                    \"percent_change_1h\": 0.415682566337918,\n",
      "                    \"percent_change_24h\": 2.62822554186885,\n",
      "                    \"percent_change_7d\": 21.8422166409004,\n",
      "                    \"percentage_change_1h\": 0.415682566337918,\n",
      "                    \"percentage_change_24h\": 2.62822554186885,\n",
      "                    \"percentage_change_7d\": 21.8422166409004,\n",
      "                    \"price\": 1681.77,\n",
      "                    \"volume_24h\": 41321913096\n",
      "                }\n",
      "            },\n",
      "            \"rank\": 2,\n",
      "            \"symbol\": \"ETH\",\n",
      "            \"total_supply\": 114554040,\n",
      "            \"website_slug\": \"ethereum\"\n",
      "        }\n",
      "    },\n",
      "    \"metadata\": {\n",
      "        \"error\": null,\n",
      "        \"num_cryptocurrencies\": 1372,\n",
      "        \"timestamp\": 1612583535\n",
      "    }\n",
      "}\n"
     ]
    }
   ],
   "source": [
    "# Using the Python requests library, make an API call to access the current price ETH\n",
    "eth_response = requests.get(eth_url).json()\n",
    "\n",
    "# Use the json.dumps function to review the response data from the API call\n",
    "# Use the indent and sort_keys parameters to make the response object readable\n",
    "print(json.dumps(eth_response, indent=4, sort_keys=True))\n"
   ]
  },
  {
   "cell_type": "markdown",
   "metadata": {},
   "source": [
    "#### Step 3: Navigate the JSON response object to access the current price of each coin, and store each in a variable."
   ]
  },
  {
   "cell_type": "code",
   "execution_count": 8,
   "metadata": {},
   "outputs": [
    {
     "name": "stdout",
     "output_type": "stream",
     "text": [
      "The current price of BTC is 39341.0\n"
     ]
    }
   ],
   "source": [
    "# Navigate the BTC response object to access the current price of BTC\n",
    "btc_price = btc_response['data']['1'][\"quotes\"]['USD']['price']\n",
    "\n",
    "# Print the current price of BTC\n",
    "print(f\"The current price of BTC is {btc_price}\")\n"
   ]
  },
  {
   "cell_type": "code",
   "execution_count": 9,
   "metadata": {},
   "outputs": [
    {
     "name": "stdout",
     "output_type": "stream",
     "text": [
      "The current price of ETH is 1681.77\n"
     ]
    }
   ],
   "source": [
    "# Navigate the BTC response object to access the current price of ETH\n",
    "eth_price = eth_response['data']['1027'][\"quotes\"]['USD']['price']\n",
    "\n",
    "# Print the current price of ETH\n",
    "print(f\"The current price of ETH is {eth_price}\")\n"
   ]
  },
  {
   "cell_type": "markdown",
   "metadata": {},
   "source": [
    "### Step 4: Calculate the value, in US dollars, of the current amount of each cryptocurrency and of the entire cryptocurrency wallet."
   ]
  },
  {
   "cell_type": "code",
   "execution_count": 10,
   "metadata": {},
   "outputs": [
    {
     "name": "stdout",
     "output_type": "stream",
     "text": [
      "The current value of your 1.2 BTC is $47209.20\n"
     ]
    }
   ],
   "source": [
    "# Compute the current value of the BTC holding \n",
    "btc_value = btc_coins * btc_price\n",
    "\n",
    "# Print current value of your holding in BTC\n",
    "print(f\"The current value of your {btc_coins} BTC is ${btc_value:0.2f}\")\n"
   ]
  },
  {
   "cell_type": "code",
   "execution_count": 11,
   "metadata": {},
   "outputs": [
    {
     "name": "stdout",
     "output_type": "stream",
     "text": [
      "The current value of your 5.3 ETH is $8913.38\n"
     ]
    }
   ],
   "source": [
    "# Compute the current value of the ETH holding \n",
    "eth_value = eth_coins * eth_price\n",
    "\n",
    "# Print current value of your holding in ETH\n",
    "print(f\"The current value of your {eth_coins} ETH is ${eth_value:0.2f}\")\n"
   ]
  },
  {
   "cell_type": "code",
   "execution_count": 12,
   "metadata": {},
   "outputs": [
    {
     "name": "stdout",
     "output_type": "stream",
     "text": [
      " The current total value of the cryptocurrency wallet is 56122.58\n"
     ]
    }
   ],
   "source": [
    "# Compute the total value of the cryptocurrency wallet\n",
    "# Add the value of the BTC holding to the value of the ETH holding\n",
    "# Print current cryptocurrency wallet balance\n",
    "total_crypto_value = btc_value + eth_value\n",
    "print(f\" The current total value of the cryptocurrency wallet is {total_crypto_value:0.2f}\")\n"
   ]
  },
  {
   "cell_type": "markdown",
   "metadata": {},
   "source": [
    "### Evaluate the Stock and Bond Holdings by Using the Alpaca SDK\n",
    "\n",
    "In this section, you’ll determine the current value of a member’s stock and bond holdings. You’ll make an API call to Alpaca via the Alpaca SDK to get the current closing prices of the SPDR S&P 500 ETF Trust (ticker: SPY) and of the iShares Core US Aggregate Bond ETF (ticker: AGG). For the prototype, assume that the member holds 110 shares of SPY, which represents the stock portion of their portfolio, and 200 shares of AGG, which represents the bond portion. To do all this, complete the following steps:\n",
    "\n",
    "1. In the `Starter_Code` folder, create an environment file (`.env`) to store the values of your Alpaca API key and Alpaca secret key.\n",
    "\n",
    "2. Set the variables for the Alpaca API and secret keys. Using the Alpaca SDK, create the Alpaca `tradeapi.REST` object. In this object, include the parameters for the Alpaca API key, the secret key, and the version number.\n",
    "\n",
    "3. Set the following parameters for the Alpaca API call:\n",
    "\n",
    "    - `tickers`: Use the tickers for the member’s stock and bond holdings.\n",
    "\n",
    "    - `timeframe`: Use a time frame of one day.\n",
    "\n",
    "    - `start_date` and `end_date`: Use the same date for these parameters, and format them with the date of the previous weekday (or `2020-08-07`). This is because you want the one closing price for the most-recent trading day.\n",
    "\n",
    "4. Get the current closing prices for `SPY` and `AGG` by using the Alpaca `get_barset` function. Format the response as a Pandas DataFrame by including the `df` property at the end of the `get_barset` function.\n",
    "\n",
    "5. Navigating the Alpaca response DataFrame, select the `SPY` and `AGG` closing prices, and store them as variables.\n",
    "\n",
    "6. Calculate the value, in US dollars, of the current amount of shares in each of the stock and bond portions of the portfolio, and print the results.\n"
   ]
  },
  {
   "cell_type": "markdown",
   "metadata": {},
   "source": [
    "#### Review the total number of shares held in both (SPY) and (AGG)."
   ]
  },
  {
   "cell_type": "code",
   "execution_count": 13,
   "metadata": {},
   "outputs": [],
   "source": [
    "# Current amount of shares held in both the stock (SPY) and bond (AGG) portion of the portfolio.\n",
    "spy_shares = 110\n",
    "agg_shares = 200\n"
   ]
  },
  {
   "cell_type": "markdown",
   "metadata": {},
   "source": [
    "#### Step 1: In the `Starter_Code` folder, create an environment file (`.env`) to store the values of your Alpaca API key and Alpaca secret key."
   ]
  },
  {
   "cell_type": "markdown",
   "metadata": {},
   "source": [
    "#### Step 2: Set the variables for the Alpaca API and secret keys. Using the Alpaca SDK, create the Alpaca `tradeapi.REST` object. In this object, include the parameters for the Alpaca API key, the secret key, and the version number."
   ]
  },
  {
   "cell_type": "code",
   "execution_count": 14,
   "metadata": {},
   "outputs": [],
   "source": [
    "# Set Alpaca API key and secret\n",
    "alpaca_api_key = os.getenv(\"ALPACA_API_KEY\")\n",
    "alpaca_secret_key = os.getenv(\"ALPACA_SECRET_KEY\")\n",
    "\n",
    "# Create the Alpaca API object\n",
    "alpaca = tradeapi.REST(alpaca_api_key,alpaca_secret_key,api_version=\"v2\")"
   ]
  },
  {
   "cell_type": "markdown",
   "metadata": {},
   "source": [
    "#### Step 3: Set the following parameters for the Alpaca API call:\n",
    "\n",
    "- `tickers`: Use the tickers for the member’s stock and bond holdings.\n",
    "\n",
    "- `timeframe`: Use a time frame of one day.\n",
    "\n",
    "- `start_date` and `end_date`: Use the same date for these parameters, and format them with the date of the previous weekday (or `2020-08-07`). This is because you want the one closing price for the most-recent trading day.\n"
   ]
  },
  {
   "cell_type": "code",
   "execution_count": 22,
   "metadata": {},
   "outputs": [],
   "source": [
    "# Set the tickers for both the bond and stock portion of the portfolio\n",
    "tickers = ['SPY', 'AGG']\n",
    "# Set timeframe to 1D \n",
    "timeframe = \"1D\"\n",
    "# Format current date as ISO format\n",
    "# Set both the start and end date at the date of your prior weekday \n",
    "# This will give you the closing price of the previous trading day\n",
    "# Alternatively you can use a start and end date of 2020-08-07\n",
    "start_date = pd.Timestamp(\"2020-06-23\", tz=\"America/New_York\").isoformat()\n",
    "end_date = pd.Timestamp(\"2020-06-23\", tz=\"America/New_York\").isoformat()"
   ]
  },
  {
   "cell_type": "markdown",
   "metadata": {},
   "source": [
    "#### Step 4: Get the current closing prices for `SPY` and `AGG` by using the Alpaca `get_barset` function. Format the response as a Pandas DataFrame by including the `df` property at the end of the `get_barset` function."
   ]
  },
  {
   "cell_type": "code",
   "execution_count": 23,
   "metadata": {},
   "outputs": [
    {
     "data": {
      "text/html": [
       "<div>\n",
       "<style scoped>\n",
       "    .dataframe tbody tr th:only-of-type {\n",
       "        vertical-align: middle;\n",
       "    }\n",
       "\n",
       "    .dataframe tbody tr th {\n",
       "        vertical-align: top;\n",
       "    }\n",
       "\n",
       "    .dataframe thead tr th {\n",
       "        text-align: left;\n",
       "    }\n",
       "\n",
       "    .dataframe thead tr:last-of-type th {\n",
       "        text-align: right;\n",
       "    }\n",
       "</style>\n",
       "<table border=\"1\" class=\"dataframe\">\n",
       "  <thead>\n",
       "    <tr>\n",
       "      <th></th>\n",
       "      <th colspan=\"5\" halign=\"left\">AGG</th>\n",
       "      <th colspan=\"5\" halign=\"left\">SPY</th>\n",
       "    </tr>\n",
       "    <tr>\n",
       "      <th></th>\n",
       "      <th>open</th>\n",
       "      <th>high</th>\n",
       "      <th>low</th>\n",
       "      <th>close</th>\n",
       "      <th>volume</th>\n",
       "      <th>open</th>\n",
       "      <th>high</th>\n",
       "      <th>low</th>\n",
       "      <th>close</th>\n",
       "      <th>volume</th>\n",
       "    </tr>\n",
       "    <tr>\n",
       "      <th>time</th>\n",
       "      <th></th>\n",
       "      <th></th>\n",
       "      <th></th>\n",
       "      <th></th>\n",
       "      <th></th>\n",
       "      <th></th>\n",
       "      <th></th>\n",
       "      <th></th>\n",
       "      <th></th>\n",
       "      <th></th>\n",
       "    </tr>\n",
       "  </thead>\n",
       "  <tbody>\n",
       "    <tr>\n",
       "      <th>2020-06-23 00:00:00-04:00</th>\n",
       "      <td>117.79</td>\n",
       "      <td>117.825</td>\n",
       "      <td>117.69</td>\n",
       "      <td>117.72</td>\n",
       "      <td>3845665</td>\n",
       "      <td>313.49</td>\n",
       "      <td>314.49</td>\n",
       "      <td>311.6101</td>\n",
       "      <td>312.03</td>\n",
       "      <td>56029323</td>\n",
       "    </tr>\n",
       "  </tbody>\n",
       "</table>\n",
       "</div>"
      ],
      "text/plain": [
       "                              AGG                                       SPY  \\\n",
       "                             open     high     low   close   volume    open   \n",
       "time                                                                          \n",
       "2020-06-23 00:00:00-04:00  117.79  117.825  117.69  117.72  3845665  313.49   \n",
       "\n",
       "                                                               \n",
       "                             high       low   close    volume  \n",
       "time                                                           \n",
       "2020-06-23 00:00:00-04:00  314.49  311.6101  312.03  56029323  "
      ]
     },
     "execution_count": 23,
     "metadata": {},
     "output_type": "execute_result"
    }
   ],
   "source": [
    "# Use the Alpaca get_barset function to get current closing prices the portfolio\n",
    "# Be sure to set the `df` property after the function to format the response object as a DataFrame\n",
    "portfolio_df = alpaca.get_barset(\n",
    "    tickers,\n",
    "    timeframe,\n",
    "    start = start_date,\n",
    "    end = end_date).df\n",
    "# Review the first 5 rows of the Alpaca DataFrame\n",
    "portfolio_df.head()"
   ]
  },
  {
   "cell_type": "markdown",
   "metadata": {},
   "source": [
    "#### Step 5: Navigating the Alpaca response DataFrame, select the `SPY` and `AGG` closing prices, and store them as variables."
   ]
  },
  {
   "cell_type": "code",
   "execution_count": 25,
   "metadata": {},
   "outputs": [
    {
     "name": "stdout",
     "output_type": "stream",
     "text": [
      "SPY Closing Price: $117.72\n"
     ]
    }
   ],
   "source": [
    "# Access the closing price for AGG from the Alpaca DataFrame\n",
    "# Converting the value to a floating point number\n",
    "agg_close_price = float(portfolio_df[\"AGG\"]['close'])\n",
    "\n",
    "# Print the AGG closing price\n",
    "print(f\"{tickers[0]} Closing Price: ${agg_close_price}\")\n"
   ]
  },
  {
   "cell_type": "code",
   "execution_count": 27,
   "metadata": {},
   "outputs": [
    {
     "name": "stdout",
     "output_type": "stream",
     "text": [
      "AGG Closing Price: $312.03\n"
     ]
    }
   ],
   "source": [
    "# Access the closing price for SPY from the Alpaca DataFrame\n",
    "# Converting the value to a floating point number\n",
    "spy_close_price = float(portfolio_df[\"SPY\"]['close'])\n",
    "\n",
    "# Print the SPY closing price\n",
    "print(f\"{tickers[1]} Closing Price: ${spy_close_price}\")\n"
   ]
  },
  {
   "cell_type": "markdown",
   "metadata": {},
   "source": [
    "#### Step 6: Calculate the value, in US dollars, of the current amount of shares in each of the stock and bond portions of the portfolio, and print the results."
   ]
  },
  {
   "cell_type": "code",
   "execution_count": 29,
   "metadata": {},
   "outputs": [
    {
     "name": "stdout",
     "output_type": "stream",
     "text": [
      "The current value of your 200 shares of AGG in your portfolio is $23544.00\n"
     ]
    }
   ],
   "source": [
    "\n",
    "# Calculate the current value of the bond portion of the portfolio\n",
    "agg_value = agg_shares * agg_close_price\n",
    "\n",
    "# Print the current value of the bond portfolio\n",
    "print(f\"The current value of your {agg_shares} shares of AGG in your portfolio is ${agg_value:0.2f}\")"
   ]
  },
  {
   "cell_type": "code",
   "execution_count": 30,
   "metadata": {},
   "outputs": [
    {
     "name": "stdout",
     "output_type": "stream",
     "text": [
      "The current value of your 110 shares of SPY in your portfolio is $34323.30\n"
     ]
    }
   ],
   "source": [
    "# Calculate the current value of the stock portion of the portfolio\n",
    "spy_value = spy_shares * spy_close_price\n",
    "\n",
    "# Print the current value of the stock portfolio\n",
    "print(f\"The current value of your {spy_shares} shares of SPY in your portfolio is ${spy_value:0.2f}\")\n"
   ]
  },
  {
   "cell_type": "code",
   "execution_count": 31,
   "metadata": {},
   "outputs": [
    {
     "name": "stdout",
     "output_type": "stream",
     "text": [
      "The total value of your stock and bond portfolio is $57867.30!\n"
     ]
    }
   ],
   "source": [
    "# Calculate the total value of the stock and bond portion of the portfolio\n",
    "total_stocks_bonds = agg_value + spy_value\n",
    "\n",
    "# Print the current balance of the stock and bond portion of the portfolio\n",
    "print(f\"The total value of your stock and bond portfolio is ${total_stocks_bonds:0.2f}!\")\n"
   ]
  },
  {
   "cell_type": "code",
   "execution_count": 35,
   "metadata": {},
   "outputs": [
    {
     "name": "stdout",
     "output_type": "stream",
     "text": [
      "The total value of your savings portfolio is $113989.88\n"
     ]
    }
   ],
   "source": [
    "# Calculate the total value of the member's entire savings portfolio\n",
    "total_portfolio = total_crypto_value + total_stocks_bonds\n",
    "\n",
    "# Print total portfolio balance\n",
    "print(f\"The total value of your savings portfolio is ${total_portfolio:0.2f}\")\n"
   ]
  },
  {
   "cell_type": "markdown",
   "metadata": {},
   "source": [
    "### Evaluate the Emergency Fund\n",
    "\n",
    "In this section, you’ll use the valuations for the cryptocurrency wallet and for the stock and bond portions of the portfolio to determine if the credit union member has enough savings to build an emergency fund into their financial plan. To do this, complete the following steps:\n",
    "\n",
    "1. Create a Python list named `savings_data` that has two elements. The first element contains the total value of the cryptocurrency wallet. The second element contains the total value of the stock and bond portions of the portfolio.\n",
    "\n",
    "2. Use the `savings_data` list to create a Pandas DataFrame named `savings_df`, and then display this DataFrame. The function to create the DataFrame should take the following three parameters:\n",
    "\n",
    "    - `savings_data`: Use the list that you just created.\n",
    "\n",
    "    - `columns`: Set this parameter equal to a Python list with a single value called `amount`.\n",
    "\n",
    "    - `index`: Set this parameter equal to a Python list with the values of `crypto` and `stock/bond`.\n",
    "\n",
    "3. Use the `savings_df` DataFrame to plot a pie chart that visualizes the composition of the member’s portfolio. The y-axis of the pie chart uses `amount`. Be sure to add a title.\n",
    "\n",
    "4. Using Python, determine if the current portfolio has enough to create an emergency fund as part of the member’s financial plan. Ideally, an emergency fund should equal to three times the member’s monthly income. To do this, implement the following steps:\n",
    "\n",
    "    1. Create a variable named `emergency_fund_value`, and set it equal to three times the value of the member’s `monthly_income` of $12000. (You set this earlier in Part 1).\n",
    "\n",
    "    2. Create a series of three if statements to determine if the member’s total portfolio is large enough to fund the emergency portfolio:\n",
    "\n",
    "        1. If the total portfolio value is greater than the emergency fund value, display a message congratulating the member for having enough money in this fund.\n",
    "\n",
    "        2. Else if the total portfolio value is equal to the emergency fund value, display a message congratulating the member on reaching this important financial goal.\n",
    "\n",
    "        3. Else the total portfolio is less than the emergency fund value, so display a message showing how many dollars away the member is from reaching the goal. (Subtract the total portfolio value from the emergency fund value.)\n"
   ]
  },
  {
   "cell_type": "markdown",
   "metadata": {},
   "source": [
    "#### Step 1: Create a Python list named `savings_data` that has two elements. The first element contains the total value of the cryptocurrency wallet. The second element contains the total value of the stock and bond portions of the portfolio."
   ]
  },
  {
   "cell_type": "code",
   "execution_count": 37,
   "metadata": {},
   "outputs": [
    {
     "name": "stdout",
     "output_type": "stream",
     "text": [
      "[56122.581, 57867.299999999996]\n"
     ]
    }
   ],
   "source": [
    "# Consolidate financial assets data into a Python list\n",
    "savings_data = [total_crypto_value, total_stocks_bonds]\n",
    "\n",
    "# Review the Python list savings_data\n",
    "savings_data\n",
    "print(savings_data)\n",
    "    "
   ]
  },
  {
   "cell_type": "markdown",
   "metadata": {},
   "source": [
    "#### Step 2: Use the `savings_data` list to create a Pandas DataFrame named `savings_df`, and then display this DataFrame. The function to create the DataFrame should take the following three parameters:\n",
    "\n",
    "- `savings_data`: Use the list that you just created.\n",
    "\n",
    "- `columns`: Set this parameter equal to a Python list with a single value called `amount`.\n",
    "\n",
    "- `index`: Set this parameter equal to a Python list with the values of `crypto` and `stock/bond`.\n"
   ]
  },
  {
   "cell_type": "code",
   "execution_count": 38,
   "metadata": {},
   "outputs": [
    {
     "name": "stdout",
     "output_type": "stream",
     "text": [
      "                 amount\n",
      "crypto        56122.581\n",
      "stocks/bonds  57867.300\n"
     ]
    }
   ],
   "source": [
    "\n",
    "# Create a Pandas DataFrame called savings_df \n",
    "savings_df = pd.DataFrame(savings_data, columns=[\"amount\"], index=[\"crypto\", \"stocks/bonds\"])\n",
    "\n",
    "# Display the savings_df DataFrame\n",
    "print(savings_df)\n"
   ]
  },
  {
   "cell_type": "markdown",
   "metadata": {},
   "source": [
    "#### Step 3: Use the `savings_df` DataFrame to plot a pie chart that visualizes the composition of the member’s portfolio. The y-axis of the pie chart uses `amount`. Be sure to add a title."
   ]
  },
  {
   "cell_type": "code",
   "execution_count": 39,
   "metadata": {},
   "outputs": [
    {
     "data": {
      "text/plain": [
       "<AxesSubplot:title={'center':'Members Portfolio Composition'}, ylabel='amount'>"
      ]
     },
     "execution_count": 39,
     "metadata": {},
     "output_type": "execute_result"
    },
    {
     "data": {
      "image/png": "[encoded data removed]",
      "text/plain": [
       "<Figure size 432x288 with 1 Axes>"
      ]
     },
     "metadata": {},
     "output_type": "display_data"
    }
   ],
   "source": [
    "\n",
    "# Plot the total value of the member's portfolio (crypto and stock/bond) in a pie chart\n",
    "savings_df.plot.pie(y='amount', title='Members Portfolio Composition')\n"
   ]
  },
  {
   "cell_type": "markdown",
   "metadata": {},
   "source": [
    "#### Step 4: Using Python, determine if the current portfolio has enough to create an emergency fund as part of the member’s financial plan. Ideally, an emergency fund should equal to three times the member’s monthly income. To do this, implement the following steps:\n",
    "\n",
    "Step 1. Create a variable named `emergency_fund_value`, and set it equal to three times the value of the member’s `monthly_income` of 12000. (You set this earlier in Part 1).\n",
    "\n",
    "Step 2. Create a series of three if statements to determine if the member’s total portfolio is large enough to fund the emergency portfolio:\n",
    "\n",
    "* If the total portfolio value is greater than the emergency fund value, display a message congratulating the member for having enough money in this fund.\n",
    "\n",
    "* Else if the total portfolio value is equal to the emergency fund value, display a message congratulating the member on reaching this important financial goal.\n",
    "\n",
    "* Else the total portfolio is less than the emergency fund value, so display a message showing how many dollars away the member is from reaching the goal. (Subtract the total portfolio value from the emergency fund value.)\n"
   ]
  },
  {
   "cell_type": "markdown",
   "metadata": {},
   "source": [
    "##### Step 4-1: Create a variable named `emergency_fund_value`, and set it equal to three times the value of the member’s `monthly_income` of 12000. (You set this earlier in Part 1)."
   ]
  },
  {
   "cell_type": "code",
   "execution_count": 40,
   "metadata": {},
   "outputs": [],
   "source": [
    "# Create a variable named emergency_fund_value\n",
    "emergency_fund_value = monthly_income * 3\n"
   ]
  },
  {
   "cell_type": "markdown",
   "metadata": {},
   "source": [
    "##### Step 4-2: Create a series of three if statements to determine if the member’s total portfolio is large enough to fund the emergency portfolio:\n",
    "\n",
    "* If the total portfolio value is greater than the emergency fund value, display a message congratulating the member for having enough money in this fund.\n",
    "\n",
    "* Else if the total portfolio value is equal to the emergency fund value, display a message congratulating the member on reaching this important financial goal.\n",
    "\n",
    "* Else the total portfolio is less than the emergency fund value, so display a message showing how many dollars away the member is from reaching the goal. (Subtract the total portfolio value from the emergency fund value.)"
   ]
  },
  {
   "cell_type": "code",
   "execution_count": 41,
   "metadata": {},
   "outputs": [
    {
     "name": "stdout",
     "output_type": "stream",
     "text": [
      "Congratulations! You have enough money saved in your emergency fund!\n"
     ]
    }
   ],
   "source": [
    "# Calculate dollars away from reaching their goal\n",
    "dollars_away = int(total_portfolio - emergency_fund_value)\n",
    "\n",
    "# Messages\n",
    "message = [\n",
    "    f\"Congratulations! You have enough money saved in your emergency fund!\",\n",
    "    f\"Congratulations! You have reached your savings goal in your emergency fund!\",\n",
    "    f\"You are ${dollars_away:0.2f} short from reaching your emergency savings fund.\"\n",
    "]\n",
    "\n",
    "# Evaluate the possibility of creating an emergency fund with 3 conditions:\n",
    "if total_portfolio > emergency_fund_value:\n",
    "    print(message[0])\n",
    "elif total_portfolio == emergency_fund_value:\n",
    "    print(message[1])\n",
    "else:\n",
    "    print(message[2])\n"
   ]
  },
  {
   "cell_type": "markdown",
   "metadata": {},
   "source": [
    "## Part 2: Create a Financial Planner for Retirement"
   ]
  },
  {
   "cell_type": "markdown",
   "metadata": {},
   "source": [
    "### Create the Monte Carlo Simulation\n",
    "\n",
    "In this section, you’ll use the MCForecastTools library to create a Monte Carlo simulation for the member’s savings portfolio. To do this, complete the following steps:\n",
    "\n",
    "1. Make an API call via the Alpaca SDK to get 10 years of historical closing prices for a traditional 60/40 portfolio split: 60% stocks (SPY) and 40% bonds (AGG).\n",
    "\n",
    "2. Run a Monte Carlo simulation of 500 samples and 30 years for the 60/40 portfolio, and then plot the results.The following image shows the overlay line plot resulting from a simulation with these characteristics. However, because a random number generator is used to run each live Monte Carlo simulation, your image will differ slightly from this exact image:\n",
    "\n",
    "![A screenshot depicts the resulting plot.](Images/5-4-monte-carlo-line-plot.png)\n",
    "\n",
    "3. Plot the probability distribution of the Monte Carlo simulation. Plot the probability distribution of the Monte Carlo simulation. The following image shows the histogram plot resulting from a simulation with these characteristics. However, because a random number generator is used to run each live Monte Carlo simulation, your image will differ slightly from this exact image:\n",
    "\n",
    "![A screenshot depicts the histogram plot.](Images/5-4-monte-carlo-histogram.png)\n",
    "\n",
    "4. Generate the summary statistics for the Monte Carlo simulation.\n",
    "\n"
   ]
  },
  {
   "cell_type": "markdown",
   "metadata": {},
   "source": [
    "#### Step 1: Make an API call via the Alpaca SDK to get 10 years of historical closing prices for a traditional 60/40 portfolio split: 60% stocks (SPY) and 40% bonds (AGG)."
   ]
  },
  {
   "cell_type": "code",
   "execution_count": 44,
   "metadata": {},
   "outputs": [],
   "source": [
    "# Set start and end dates of 10 years back from your current date\n",
    "current_date = str(datetime.datetime.now()).split()[0]\n",
    "ten_years_ago = str(datetime.datetime.now() - datetime.timedelta(days=10*365)).split()[0]\n",
    "\n",
    "start_date = pd.Timestamp(ten_years_ago, tz=\"America/New_York\").isoformat()\n",
    "end_date = pd.Timestamp(current_date, tz=\"America/New_York\").isoformat()\n"
   ]
  },
  {
   "cell_type": "code",
   "execution_count": 45,
   "metadata": {},
   "outputs": [
    {
     "data": {
      "text/html": [
       "<div>\n",
       "<style scoped>\n",
       "    .dataframe tbody tr th:only-of-type {\n",
       "        vertical-align: middle;\n",
       "    }\n",
       "\n",
       "    .dataframe tbody tr th {\n",
       "        vertical-align: top;\n",
       "    }\n",
       "\n",
       "    .dataframe thead tr th {\n",
       "        text-align: left;\n",
       "    }\n",
       "\n",
       "    .dataframe thead tr:last-of-type th {\n",
       "        text-align: right;\n",
       "    }\n",
       "</style>\n",
       "<table border=\"1\" class=\"dataframe\">\n",
       "  <thead>\n",
       "    <tr>\n",
       "      <th></th>\n",
       "      <th colspan=\"5\" halign=\"left\">AGG</th>\n",
       "      <th colspan=\"5\" halign=\"left\">SPY</th>\n",
       "    </tr>\n",
       "    <tr>\n",
       "      <th></th>\n",
       "      <th>open</th>\n",
       "      <th>high</th>\n",
       "      <th>low</th>\n",
       "      <th>close</th>\n",
       "      <th>volume</th>\n",
       "      <th>open</th>\n",
       "      <th>high</th>\n",
       "      <th>low</th>\n",
       "      <th>close</th>\n",
       "      <th>volume</th>\n",
       "    </tr>\n",
       "    <tr>\n",
       "      <th>time</th>\n",
       "      <th></th>\n",
       "      <th></th>\n",
       "      <th></th>\n",
       "      <th></th>\n",
       "      <th></th>\n",
       "      <th></th>\n",
       "      <th></th>\n",
       "      <th></th>\n",
       "      <th></th>\n",
       "      <th></th>\n",
       "    </tr>\n",
       "  </thead>\n",
       "  <tbody>\n",
       "    <tr>\n",
       "      <th>2020-09-15 00:00:00-04:00</th>\n",
       "      <td>118.2900</td>\n",
       "      <td>118.425</td>\n",
       "      <td>118.29</td>\n",
       "      <td>118.38</td>\n",
       "      <td>3634512</td>\n",
       "      <td>341.12</td>\n",
       "      <td>342.0200</td>\n",
       "      <td>338.4683</td>\n",
       "      <td>340.15</td>\n",
       "      <td>43908367</td>\n",
       "    </tr>\n",
       "    <tr>\n",
       "      <th>2020-09-16 00:00:00-04:00</th>\n",
       "      <td>118.5300</td>\n",
       "      <td>118.530</td>\n",
       "      <td>118.20</td>\n",
       "      <td>118.32</td>\n",
       "      <td>5190572</td>\n",
       "      <td>341.51</td>\n",
       "      <td>343.0600</td>\n",
       "      <td>338.5200</td>\n",
       "      <td>338.81</td>\n",
       "      <td>70521698</td>\n",
       "    </tr>\n",
       "    <tr>\n",
       "      <th>2020-09-17 00:00:00-04:00</th>\n",
       "      <td>118.4201</td>\n",
       "      <td>118.520</td>\n",
       "      <td>118.33</td>\n",
       "      <td>118.36</td>\n",
       "      <td>4263541</td>\n",
       "      <td>333.56</td>\n",
       "      <td>337.6996</td>\n",
       "      <td>332.9910</td>\n",
       "      <td>335.86</td>\n",
       "      <td>80778657</td>\n",
       "    </tr>\n",
       "    <tr>\n",
       "      <th>2020-09-18 00:00:00-04:00</th>\n",
       "      <td>118.3900</td>\n",
       "      <td>118.440</td>\n",
       "      <td>118.18</td>\n",
       "      <td>118.24</td>\n",
       "      <td>4548578</td>\n",
       "      <td>335.37</td>\n",
       "      <td>335.4900</td>\n",
       "      <td>327.9700</td>\n",
       "      <td>330.69</td>\n",
       "      <td>88780313</td>\n",
       "    </tr>\n",
       "    <tr>\n",
       "      <th>2020-09-21 00:00:00-04:00</th>\n",
       "      <td>118.4100</td>\n",
       "      <td>118.420</td>\n",
       "      <td>118.25</td>\n",
       "      <td>118.26</td>\n",
       "      <td>4787684</td>\n",
       "      <td>325.70</td>\n",
       "      <td>327.0900</td>\n",
       "      <td>321.7300</td>\n",
       "      <td>327.00</td>\n",
       "      <td>86591719</td>\n",
       "    </tr>\n",
       "  </tbody>\n",
       "</table>\n",
       "</div>"
      ],
      "text/plain": [
       "                                AGG                                       SPY  \\\n",
       "                               open     high     low   close   volume    open   \n",
       "time                                                                            \n",
       "2020-09-15 00:00:00-04:00  118.2900  118.425  118.29  118.38  3634512  341.12   \n",
       "2020-09-16 00:00:00-04:00  118.5300  118.530  118.20  118.32  5190572  341.51   \n",
       "2020-09-17 00:00:00-04:00  118.4201  118.520  118.33  118.36  4263541  333.56   \n",
       "2020-09-18 00:00:00-04:00  118.3900  118.440  118.18  118.24  4548578  335.37   \n",
       "2020-09-21 00:00:00-04:00  118.4100  118.420  118.25  118.26  4787684  325.70   \n",
       "\n",
       "                                                                 \n",
       "                               high       low   close    volume  \n",
       "time                                                             \n",
       "2020-09-15 00:00:00-04:00  342.0200  338.4683  340.15  43908367  \n",
       "2020-09-16 00:00:00-04:00  343.0600  338.5200  338.81  70521698  \n",
       "2020-09-17 00:00:00-04:00  337.6996  332.9910  335.86  80778657  \n",
       "2020-09-18 00:00:00-04:00  335.4900  327.9700  330.69  88780313  \n",
       "2020-09-21 00:00:00-04:00  327.0900  321.7300  327.00  86591719  "
      ]
     },
     "execution_count": 45,
     "metadata": {},
     "output_type": "execute_result"
    }
   ],
   "source": [
    "# Use the Alpaca get_barset function to make the API call to get the 10 years worth of pricing data\n",
    "pricing_data = alpaca.get_barset(\n",
    "    tickers,\n",
    "    timeframe,\n",
    "    start=start_date,\n",
    "    end=end_date\n",
    ").df\n",
    "\n",
    "# Display the first five rows of the DataFrame\n",
    "pricing_data.head()\n"
   ]
  },
  {
   "cell_type": "markdown",
   "metadata": {},
   "source": [
    "#### Step 2: Run a Monte Carlo simulation of 500 samples and 30 years for the 60/40 portfolio, and then plot the results."
   ]
  },
  {
   "cell_type": "code",
   "execution_count": 46,
   "metadata": {},
   "outputs": [
    {
     "data": {
      "text/html": [
       "<div>\n",
       "<style scoped>\n",
       "    .dataframe tbody tr th:only-of-type {\n",
       "        vertical-align: middle;\n",
       "    }\n",
       "\n",
       "    .dataframe tbody tr th {\n",
       "        vertical-align: top;\n",
       "    }\n",
       "\n",
       "    .dataframe thead tr th {\n",
       "        text-align: left;\n",
       "    }\n",
       "\n",
       "    .dataframe thead tr:last-of-type th {\n",
       "        text-align: right;\n",
       "    }\n",
       "</style>\n",
       "<table border=\"1\" class=\"dataframe\">\n",
       "  <thead>\n",
       "    <tr>\n",
       "      <th></th>\n",
       "      <th colspan=\"6\" halign=\"left\">AGG</th>\n",
       "      <th colspan=\"6\" halign=\"left\">SPY</th>\n",
       "    </tr>\n",
       "    <tr>\n",
       "      <th></th>\n",
       "      <th>open</th>\n",
       "      <th>high</th>\n",
       "      <th>low</th>\n",
       "      <th>close</th>\n",
       "      <th>volume</th>\n",
       "      <th>daily_return</th>\n",
       "      <th>open</th>\n",
       "      <th>high</th>\n",
       "      <th>low</th>\n",
       "      <th>close</th>\n",
       "      <th>volume</th>\n",
       "      <th>daily_return</th>\n",
       "    </tr>\n",
       "    <tr>\n",
       "      <th>time</th>\n",
       "      <th></th>\n",
       "      <th></th>\n",
       "      <th></th>\n",
       "      <th></th>\n",
       "      <th></th>\n",
       "      <th></th>\n",
       "      <th></th>\n",
       "      <th></th>\n",
       "      <th></th>\n",
       "      <th></th>\n",
       "      <th></th>\n",
       "      <th></th>\n",
       "    </tr>\n",
       "  </thead>\n",
       "  <tbody>\n",
       "    <tr>\n",
       "      <th>2020-09-15 00:00:00-04:00</th>\n",
       "      <td>118.2900</td>\n",
       "      <td>118.425</td>\n",
       "      <td>118.29</td>\n",
       "      <td>118.38</td>\n",
       "      <td>3634512</td>\n",
       "      <td>NaN</td>\n",
       "      <td>341.12</td>\n",
       "      <td>342.0200</td>\n",
       "      <td>338.4683</td>\n",
       "      <td>340.15</td>\n",
       "      <td>43908367</td>\n",
       "      <td>NaN</td>\n",
       "    </tr>\n",
       "    <tr>\n",
       "      <th>2020-09-16 00:00:00-04:00</th>\n",
       "      <td>118.5300</td>\n",
       "      <td>118.530</td>\n",
       "      <td>118.20</td>\n",
       "      <td>118.32</td>\n",
       "      <td>5190572</td>\n",
       "      <td>-0.000507</td>\n",
       "      <td>341.51</td>\n",
       "      <td>343.0600</td>\n",
       "      <td>338.5200</td>\n",
       "      <td>338.81</td>\n",
       "      <td>70521698</td>\n",
       "      <td>-0.003939</td>\n",
       "    </tr>\n",
       "    <tr>\n",
       "      <th>2020-09-17 00:00:00-04:00</th>\n",
       "      <td>118.4201</td>\n",
       "      <td>118.520</td>\n",
       "      <td>118.33</td>\n",
       "      <td>118.36</td>\n",
       "      <td>4263541</td>\n",
       "      <td>0.000338</td>\n",
       "      <td>333.56</td>\n",
       "      <td>337.6996</td>\n",
       "      <td>332.9910</td>\n",
       "      <td>335.86</td>\n",
       "      <td>80778657</td>\n",
       "      <td>-0.008707</td>\n",
       "    </tr>\n",
       "    <tr>\n",
       "      <th>2020-09-18 00:00:00-04:00</th>\n",
       "      <td>118.3900</td>\n",
       "      <td>118.440</td>\n",
       "      <td>118.18</td>\n",
       "      <td>118.24</td>\n",
       "      <td>4548578</td>\n",
       "      <td>-0.001014</td>\n",
       "      <td>335.37</td>\n",
       "      <td>335.4900</td>\n",
       "      <td>327.9700</td>\n",
       "      <td>330.69</td>\n",
       "      <td>88780313</td>\n",
       "      <td>-0.015393</td>\n",
       "    </tr>\n",
       "    <tr>\n",
       "      <th>2020-09-21 00:00:00-04:00</th>\n",
       "      <td>118.4100</td>\n",
       "      <td>118.420</td>\n",
       "      <td>118.25</td>\n",
       "      <td>118.26</td>\n",
       "      <td>4787684</td>\n",
       "      <td>0.000169</td>\n",
       "      <td>325.70</td>\n",
       "      <td>327.0900</td>\n",
       "      <td>321.7300</td>\n",
       "      <td>327.00</td>\n",
       "      <td>86591719</td>\n",
       "      <td>-0.011158</td>\n",
       "    </tr>\n",
       "  </tbody>\n",
       "</table>\n",
       "</div>"
      ],
      "text/plain": [
       "                                AGG                                    \\\n",
       "                               open     high     low   close   volume   \n",
       "time                                                                    \n",
       "2020-09-15 00:00:00-04:00  118.2900  118.425  118.29  118.38  3634512   \n",
       "2020-09-16 00:00:00-04:00  118.5300  118.530  118.20  118.32  5190572   \n",
       "2020-09-17 00:00:00-04:00  118.4201  118.520  118.33  118.36  4263541   \n",
       "2020-09-18 00:00:00-04:00  118.3900  118.440  118.18  118.24  4548578   \n",
       "2020-09-21 00:00:00-04:00  118.4100  118.420  118.25  118.26  4787684   \n",
       "\n",
       "                                           SPY                              \\\n",
       "                          daily_return    open      high       low   close   \n",
       "time                                                                         \n",
       "2020-09-15 00:00:00-04:00          NaN  341.12  342.0200  338.4683  340.15   \n",
       "2020-09-16 00:00:00-04:00    -0.000507  341.51  343.0600  338.5200  338.81   \n",
       "2020-09-17 00:00:00-04:00     0.000338  333.56  337.6996  332.9910  335.86   \n",
       "2020-09-18 00:00:00-04:00    -0.001014  335.37  335.4900  327.9700  330.69   \n",
       "2020-09-21 00:00:00-04:00     0.000169  325.70  327.0900  321.7300  327.00   \n",
       "\n",
       "                                                  \n",
       "                             volume daily_return  \n",
       "time                                              \n",
       "2020-09-15 00:00:00-04:00  43908367          NaN  \n",
       "2020-09-16 00:00:00-04:00  70521698    -0.003939  \n",
       "2020-09-17 00:00:00-04:00  80778657    -0.008707  \n",
       "2020-09-18 00:00:00-04:00  88780313    -0.015393  \n",
       "2020-09-21 00:00:00-04:00  86591719    -0.011158  "
      ]
     },
     "execution_count": 46,
     "metadata": {},
     "output_type": "execute_result"
    }
   ],
   "source": [
    "# Configure the Monte Carlo simulation to forecast 30 years cumulative returns\n",
    "# The weights should be split 40% to AGG and 60% to SPY\n",
    "# Run 500 samples\n",
    "num_simulation = 500\n",
    "\n",
    "mc_portfolio = MCSimulation(\n",
    "    portfolio_data = pricing_data,\n",
    "    num_simulation = num_simulation,\n",
    "    num_trading_days = 252*30,\n",
    "    weights = [.40,.60]\n",
    ")\n",
    "\n",
    "# Review the simulation input data\n",
    "mc_portfolio.portfolio_data.head()\n"
   ]
  },
  {
   "cell_type": "code",
   "execution_count": 47,
   "metadata": {},
   "outputs": [
    {
     "name": "stdout",
     "output_type": "stream",
     "text": [
      "Running Monte Carlo simulation number 0.\n",
      "Running Monte Carlo simulation number 10.\n",
      "Running Monte Carlo simulation number 20.\n",
      "Running Monte Carlo simulation number 30.\n",
      "Running Monte Carlo simulation number 40.\n",
      "Running Monte Carlo simulation number 50.\n",
      "Running Monte Carlo simulation number 60.\n",
      "Running Monte Carlo simulation number 70.\n",
      "Running Monte Carlo simulation number 80.\n",
      "Running Monte Carlo simulation number 90.\n",
      "Running Monte Carlo simulation number 100.\n",
      "Running Monte Carlo simulation number 110.\n",
      "Running Monte Carlo simulation number 120.\n",
      "Running Monte Carlo simulation number 130.\n",
      "Running Monte Carlo simulation number 140.\n",
      "Running Monte Carlo simulation number 150.\n",
      "Running Monte Carlo simulation number 160.\n",
      "Running Monte Carlo simulation number 170.\n",
      "Running Monte Carlo simulation number 180.\n",
      "Running Monte Carlo simulation number 190.\n",
      "Running Monte Carlo simulation number 200.\n",
      "Running Monte Carlo simulation number 210.\n",
      "Running Monte Carlo simulation number 220.\n",
      "Running Monte Carlo simulation number 230.\n",
      "Running Monte Carlo simulation number 240.\n",
      "Running Monte Carlo simulation number 250.\n",
      "Running Monte Carlo simulation number 260.\n",
      "Running Monte Carlo simulation number 270.\n",
      "Running Monte Carlo simulation number 280.\n",
      "Running Monte Carlo simulation number 290.\n",
      "Running Monte Carlo simulation number 300.\n",
      "Running Monte Carlo simulation number 310.\n",
      "Running Monte Carlo simulation number 320.\n",
      "Running Monte Carlo simulation number 330.\n",
      "Running Monte Carlo simulation number 340.\n",
      "Running Monte Carlo simulation number 350.\n",
      "Running Monte Carlo simulation number 360.\n",
      "Running Monte Carlo simulation number 370.\n",
      "Running Monte Carlo simulation number 380.\n",
      "Running Monte Carlo simulation number 390.\n",
      "Running Monte Carlo simulation number 400.\n",
      "Running Monte Carlo simulation number 410.\n",
      "Running Monte Carlo simulation number 420.\n",
      "Running Monte Carlo simulation number 430.\n",
      "Running Monte Carlo simulation number 440.\n",
      "Running Monte Carlo simulation number 450.\n",
      "Running Monte Carlo simulation number 460.\n",
      "Running Monte Carlo simulation number 470.\n",
      "Running Monte Carlo simulation number 480.\n",
      "Running Monte Carlo simulation number 490.\n"
     ]
    },
    {
     "data": {
      "text/html": [
       "<div>\n",
       "<style scoped>\n",
       "    .dataframe tbody tr th:only-of-type {\n",
       "        vertical-align: middle;\n",
       "    }\n",
       "\n",
       "    .dataframe tbody tr th {\n",
       "        vertical-align: top;\n",
       "    }\n",
       "\n",
       "    .dataframe thead th {\n",
       "        text-align: right;\n",
       "    }\n",
       "</style>\n",
       "<table border=\"1\" class=\"dataframe\">\n",
       "  <thead>\n",
       "    <tr style=\"text-align: right;\">\n",
       "      <th></th>\n",
       "      <th>0</th>\n",
       "      <th>1</th>\n",
       "      <th>2</th>\n",
       "      <th>3</th>\n",
       "      <th>4</th>\n",
       "      <th>5</th>\n",
       "      <th>6</th>\n",
       "      <th>7</th>\n",
       "      <th>8</th>\n",
       "      <th>9</th>\n",
       "      <th>...</th>\n",
       "      <th>490</th>\n",
       "      <th>491</th>\n",
       "      <th>492</th>\n",
       "      <th>493</th>\n",
       "      <th>494</th>\n",
       "      <th>495</th>\n",
       "      <th>496</th>\n",
       "      <th>497</th>\n",
       "      <th>498</th>\n",
       "      <th>499</th>\n",
       "    </tr>\n",
       "  </thead>\n",
       "  <tbody>\n",
       "    <tr>\n",
       "      <th>0</th>\n",
       "      <td>1.000000</td>\n",
       "      <td>1.000000</td>\n",
       "      <td>1.000000</td>\n",
       "      <td>1.000000</td>\n",
       "      <td>1.000000</td>\n",
       "      <td>1.000000</td>\n",
       "      <td>1.000000</td>\n",
       "      <td>1.000000</td>\n",
       "      <td>1.000000</td>\n",
       "      <td>1.000000</td>\n",
       "      <td>...</td>\n",
       "      <td>1.000000</td>\n",
       "      <td>1.000000</td>\n",
       "      <td>1.000000</td>\n",
       "      <td>1.000000</td>\n",
       "      <td>1.000000</td>\n",
       "      <td>1.000000</td>\n",
       "      <td>1.000000</td>\n",
       "      <td>1.000000</td>\n",
       "      <td>1.000000</td>\n",
       "      <td>1.000000</td>\n",
       "    </tr>\n",
       "    <tr>\n",
       "      <th>1</th>\n",
       "      <td>1.016539</td>\n",
       "      <td>1.004087</td>\n",
       "      <td>1.007414</td>\n",
       "      <td>0.990170</td>\n",
       "      <td>1.006650</td>\n",
       "      <td>0.995531</td>\n",
       "      <td>0.990676</td>\n",
       "      <td>1.005501</td>\n",
       "      <td>0.985098</td>\n",
       "      <td>1.002200</td>\n",
       "      <td>...</td>\n",
       "      <td>0.993411</td>\n",
       "      <td>1.011016</td>\n",
       "      <td>1.007777</td>\n",
       "      <td>0.997913</td>\n",
       "      <td>0.996627</td>\n",
       "      <td>1.008535</td>\n",
       "      <td>0.991199</td>\n",
       "      <td>0.990285</td>\n",
       "      <td>1.014304</td>\n",
       "      <td>0.988953</td>\n",
       "    </tr>\n",
       "    <tr>\n",
       "      <th>2</th>\n",
       "      <td>1.011016</td>\n",
       "      <td>1.007342</td>\n",
       "      <td>1.007629</td>\n",
       "      <td>0.986432</td>\n",
       "      <td>1.013204</td>\n",
       "      <td>0.986411</td>\n",
       "      <td>0.988188</td>\n",
       "      <td>1.006820</td>\n",
       "      <td>0.989332</td>\n",
       "      <td>1.013301</td>\n",
       "      <td>...</td>\n",
       "      <td>0.993203</td>\n",
       "      <td>1.008412</td>\n",
       "      <td>1.004156</td>\n",
       "      <td>0.996256</td>\n",
       "      <td>0.997935</td>\n",
       "      <td>1.013008</td>\n",
       "      <td>0.981682</td>\n",
       "      <td>0.986058</td>\n",
       "      <td>1.011972</td>\n",
       "      <td>0.990979</td>\n",
       "    </tr>\n",
       "    <tr>\n",
       "      <th>3</th>\n",
       "      <td>1.017274</td>\n",
       "      <td>1.011341</td>\n",
       "      <td>1.008343</td>\n",
       "      <td>0.982033</td>\n",
       "      <td>1.015327</td>\n",
       "      <td>0.995359</td>\n",
       "      <td>1.002493</td>\n",
       "      <td>1.002899</td>\n",
       "      <td>0.988462</td>\n",
       "      <td>1.014705</td>\n",
       "      <td>...</td>\n",
       "      <td>0.985442</td>\n",
       "      <td>1.021994</td>\n",
       "      <td>1.003189</td>\n",
       "      <td>1.002173</td>\n",
       "      <td>0.996816</td>\n",
       "      <td>1.017543</td>\n",
       "      <td>0.988706</td>\n",
       "      <td>0.984659</td>\n",
       "      <td>1.018059</td>\n",
       "      <td>0.998967</td>\n",
       "    </tr>\n",
       "    <tr>\n",
       "      <th>4</th>\n",
       "      <td>1.015781</td>\n",
       "      <td>1.000643</td>\n",
       "      <td>1.004883</td>\n",
       "      <td>0.984586</td>\n",
       "      <td>1.015920</td>\n",
       "      <td>0.999845</td>\n",
       "      <td>0.994173</td>\n",
       "      <td>1.008320</td>\n",
       "      <td>1.001790</td>\n",
       "      <td>0.996520</td>\n",
       "      <td>...</td>\n",
       "      <td>0.986411</td>\n",
       "      <td>1.018477</td>\n",
       "      <td>0.996987</td>\n",
       "      <td>0.988443</td>\n",
       "      <td>0.995011</td>\n",
       "      <td>1.011715</td>\n",
       "      <td>0.994630</td>\n",
       "      <td>0.986987</td>\n",
       "      <td>1.019538</td>\n",
       "      <td>1.005210</td>\n",
       "    </tr>\n",
       "    <tr>\n",
       "      <th>...</th>\n",
       "      <td>...</td>\n",
       "      <td>...</td>\n",
       "      <td>...</td>\n",
       "      <td>...</td>\n",
       "      <td>...</td>\n",
       "      <td>...</td>\n",
       "      <td>...</td>\n",
       "      <td>...</td>\n",
       "      <td>...</td>\n",
       "      <td>...</td>\n",
       "      <td>...</td>\n",
       "      <td>...</td>\n",
       "      <td>...</td>\n",
       "      <td>...</td>\n",
       "      <td>...</td>\n",
       "      <td>...</td>\n",
       "      <td>...</td>\n",
       "      <td>...</td>\n",
       "      <td>...</td>\n",
       "      <td>...</td>\n",
       "      <td>...</td>\n",
       "    </tr>\n",
       "    <tr>\n",
       "      <th>7556</th>\n",
       "      <td>247.714708</td>\n",
       "      <td>92.517040</td>\n",
       "      <td>149.845898</td>\n",
       "      <td>491.390032</td>\n",
       "      <td>649.929495</td>\n",
       "      <td>253.726579</td>\n",
       "      <td>251.342301</td>\n",
       "      <td>531.893643</td>\n",
       "      <td>237.860367</td>\n",
       "      <td>463.151466</td>\n",
       "      <td>...</td>\n",
       "      <td>136.742695</td>\n",
       "      <td>471.933242</td>\n",
       "      <td>311.868955</td>\n",
       "      <td>742.542058</td>\n",
       "      <td>143.162935</td>\n",
       "      <td>404.459444</td>\n",
       "      <td>127.422957</td>\n",
       "      <td>396.159645</td>\n",
       "      <td>352.745228</td>\n",
       "      <td>161.581903</td>\n",
       "    </tr>\n",
       "    <tr>\n",
       "      <th>7557</th>\n",
       "      <td>247.762360</td>\n",
       "      <td>92.606762</td>\n",
       "      <td>151.104017</td>\n",
       "      <td>493.160386</td>\n",
       "      <td>650.109901</td>\n",
       "      <td>251.695970</td>\n",
       "      <td>255.041098</td>\n",
       "      <td>531.280201</td>\n",
       "      <td>236.166130</td>\n",
       "      <td>461.713834</td>\n",
       "      <td>...</td>\n",
       "      <td>137.703891</td>\n",
       "      <td>477.769797</td>\n",
       "      <td>308.700410</td>\n",
       "      <td>737.073285</td>\n",
       "      <td>142.874634</td>\n",
       "      <td>407.745481</td>\n",
       "      <td>126.922934</td>\n",
       "      <td>394.000098</td>\n",
       "      <td>352.628904</td>\n",
       "      <td>162.141104</td>\n",
       "    </tr>\n",
       "    <tr>\n",
       "      <th>7558</th>\n",
       "      <td>247.501021</td>\n",
       "      <td>92.626854</td>\n",
       "      <td>150.462921</td>\n",
       "      <td>491.620747</td>\n",
       "      <td>652.987132</td>\n",
       "      <td>252.586390</td>\n",
       "      <td>255.359215</td>\n",
       "      <td>535.807898</td>\n",
       "      <td>238.267573</td>\n",
       "      <td>460.462511</td>\n",
       "      <td>...</td>\n",
       "      <td>139.211655</td>\n",
       "      <td>480.340977</td>\n",
       "      <td>307.195031</td>\n",
       "      <td>734.753674</td>\n",
       "      <td>143.281177</td>\n",
       "      <td>409.507683</td>\n",
       "      <td>128.910407</td>\n",
       "      <td>388.350844</td>\n",
       "      <td>355.087548</td>\n",
       "      <td>162.646909</td>\n",
       "    </tr>\n",
       "    <tr>\n",
       "      <th>7559</th>\n",
       "      <td>247.791048</td>\n",
       "      <td>93.498565</td>\n",
       "      <td>150.832642</td>\n",
       "      <td>491.352884</td>\n",
       "      <td>653.935829</td>\n",
       "      <td>250.024579</td>\n",
       "      <td>256.382696</td>\n",
       "      <td>534.267367</td>\n",
       "      <td>238.685954</td>\n",
       "      <td>464.837434</td>\n",
       "      <td>...</td>\n",
       "      <td>135.736262</td>\n",
       "      <td>485.496693</td>\n",
       "      <td>306.420100</td>\n",
       "      <td>739.546301</td>\n",
       "      <td>142.923102</td>\n",
       "      <td>407.834983</td>\n",
       "      <td>129.385789</td>\n",
       "      <td>382.240692</td>\n",
       "      <td>354.486378</td>\n",
       "      <td>163.255120</td>\n",
       "    </tr>\n",
       "    <tr>\n",
       "      <th>7560</th>\n",
       "      <td>248.598703</td>\n",
       "      <td>92.747256</td>\n",
       "      <td>149.972510</td>\n",
       "      <td>488.707361</td>\n",
       "      <td>654.591282</td>\n",
       "      <td>248.510404</td>\n",
       "      <td>255.349907</td>\n",
       "      <td>535.611414</td>\n",
       "      <td>238.877885</td>\n",
       "      <td>468.957652</td>\n",
       "      <td>...</td>\n",
       "      <td>137.168795</td>\n",
       "      <td>487.252144</td>\n",
       "      <td>308.827609</td>\n",
       "      <td>738.824053</td>\n",
       "      <td>142.208417</td>\n",
       "      <td>407.423515</td>\n",
       "      <td>130.884040</td>\n",
       "      <td>383.393236</td>\n",
       "      <td>357.910279</td>\n",
       "      <td>164.261509</td>\n",
       "    </tr>\n",
       "  </tbody>\n",
       "</table>\n",
       "<p>7561 rows × 500 columns</p>\n",
       "</div>"
      ],
      "text/plain": [
       "             0          1           2           3           4           5    \\\n",
       "0       1.000000   1.000000    1.000000    1.000000    1.000000    1.000000   \n",
       "1       1.016539   1.004087    1.007414    0.990170    1.006650    0.995531   \n",
       "2       1.011016   1.007342    1.007629    0.986432    1.013204    0.986411   \n",
       "3       1.017274   1.011341    1.008343    0.982033    1.015327    0.995359   \n",
       "4       1.015781   1.000643    1.004883    0.984586    1.015920    0.999845   \n",
       "...          ...        ...         ...         ...         ...         ...   \n",
       "7556  247.714708  92.517040  149.845898  491.390032  649.929495  253.726579   \n",
       "7557  247.762360  92.606762  151.104017  493.160386  650.109901  251.695970   \n",
       "7558  247.501021  92.626854  150.462921  491.620747  652.987132  252.586390   \n",
       "7559  247.791048  93.498565  150.832642  491.352884  653.935829  250.024579   \n",
       "7560  248.598703  92.747256  149.972510  488.707361  654.591282  248.510404   \n",
       "\n",
       "             6           7           8           9    ...         490  \\\n",
       "0       1.000000    1.000000    1.000000    1.000000  ...    1.000000   \n",
       "1       0.990676    1.005501    0.985098    1.002200  ...    0.993411   \n",
       "2       0.988188    1.006820    0.989332    1.013301  ...    0.993203   \n",
       "3       1.002493    1.002899    0.988462    1.014705  ...    0.985442   \n",
       "4       0.994173    1.008320    1.001790    0.996520  ...    0.986411   \n",
       "...          ...         ...         ...         ...  ...         ...   \n",
       "7556  251.342301  531.893643  237.860367  463.151466  ...  136.742695   \n",
       "7557  255.041098  531.280201  236.166130  461.713834  ...  137.703891   \n",
       "7558  255.359215  535.807898  238.267573  460.462511  ...  139.211655   \n",
       "7559  256.382696  534.267367  238.685954  464.837434  ...  135.736262   \n",
       "7560  255.349907  535.611414  238.877885  468.957652  ...  137.168795   \n",
       "\n",
       "             491         492         493         494         495         496  \\\n",
       "0       1.000000    1.000000    1.000000    1.000000    1.000000    1.000000   \n",
       "1       1.011016    1.007777    0.997913    0.996627    1.008535    0.991199   \n",
       "2       1.008412    1.004156    0.996256    0.997935    1.013008    0.981682   \n",
       "3       1.021994    1.003189    1.002173    0.996816    1.017543    0.988706   \n",
       "4       1.018477    0.996987    0.988443    0.995011    1.011715    0.994630   \n",
       "...          ...         ...         ...         ...         ...         ...   \n",
       "7556  471.933242  311.868955  742.542058  143.162935  404.459444  127.422957   \n",
       "7557  477.769797  308.700410  737.073285  142.874634  407.745481  126.922934   \n",
       "7558  480.340977  307.195031  734.753674  143.281177  409.507683  128.910407   \n",
       "7559  485.496693  306.420100  739.546301  142.923102  407.834983  129.385789   \n",
       "7560  487.252144  308.827609  738.824053  142.208417  407.423515  130.884040   \n",
       "\n",
       "             497         498         499  \n",
       "0       1.000000    1.000000    1.000000  \n",
       "1       0.990285    1.014304    0.988953  \n",
       "2       0.986058    1.011972    0.990979  \n",
       "3       0.984659    1.018059    0.998967  \n",
       "4       0.986987    1.019538    1.005210  \n",
       "...          ...         ...         ...  \n",
       "7556  396.159645  352.745228  161.581903  \n",
       "7557  394.000098  352.628904  162.141104  \n",
       "7558  388.350844  355.087548  162.646909  \n",
       "7559  382.240692  354.486378  163.255120  \n",
       "7560  383.393236  357.910279  164.261509  \n",
       "\n",
       "[7561 rows x 500 columns]"
      ]
     },
     "execution_count": 47,
     "metadata": {},
     "output_type": "execute_result"
    }
   ],
   "source": [
    "# Run the Monte Carlo simulation to forecast 30 years cumulative returns\n",
    "mc_portfolio.calc_cumulative_return()\n"
   ]
  },
  {
   "cell_type": "code",
   "execution_count": 48,
   "metadata": {},
   "outputs": [
    {
     "data": {
      "text/plain": [
       "<AxesSubplot:title={'center':'500 Simulations of Cumulative Portfolio Return Trajectories Over the Next 7560 Trading Days.'}>"
      ]
     },
     "execution_count": 48,
     "metadata": {},
     "output_type": "execute_result"
    },
    {
     "data": {
      "image/png": "[encoded data removed]",
      "text/plain": [
       "<Figure size 432x288 with 1 Axes>"
      ]
     },
     "metadata": {
      "needs_background": "light"
     },
     "output_type": "display_data"
    }
   ],
   "source": [
    "# Visualize the 30-year Monte Carlo simulation by creating an overlay line plot\n",
    "mc_portfolio.plot_simulation()\n"
   ]
  },
  {
   "cell_type": "markdown",
   "metadata": {},
   "source": [
    "#### Step 3: Plot the probability distribution of the Monte Carlo simulation."
   ]
  },
  {
   "cell_type": "code",
   "execution_count": 49,
   "metadata": {},
   "outputs": [
    {
     "data": {
      "text/plain": [
       "<AxesSubplot:title={'center':'Distribution of Final Cumuluative Returns Across All 500 Simulations'}, ylabel='Frequency'>"
      ]
     },
     "execution_count": 49,
     "metadata": {},
     "output_type": "execute_result"
    },
    {
     "data": {
      "image/png": "[encoded data removed]",
      "text/plain": [
       "<Figure size 432x288 with 1 Axes>"
      ]
     },
     "metadata": {
      "needs_background": "light"
     },
     "output_type": "display_data"
    }
   ],
   "source": [
    "\n",
    "# Visualize the probability distribution of the 30-year Monte Carlo simulation by plotting a histogram\n",
    "mc_portfolio.plot_distribution()\n"
   ]
  },
  {
   "cell_type": "markdown",
   "metadata": {},
   "source": [
    "#### Step 4: Generate the summary statistics for the Monte Carlo simulation."
   ]
  },
  {
   "cell_type": "code",
   "execution_count": 50,
   "metadata": {},
   "outputs": [
    {
     "name": "stdout",
     "output_type": "stream",
     "text": [
      "count            500.000000\n",
      "mean             347.451600\n",
      "std              199.166836\n",
      "min               58.328260\n",
      "25%              199.544419\n",
      "50%              302.698848\n",
      "75%              442.030454\n",
      "max             1622.667905\n",
      "95% CI Lower     100.759595\n",
      "95% CI Upper     829.164573\n",
      "Name: 7560, dtype: float64\n"
     ]
    }
   ],
   "source": [
    "# Generate summary statistics from the 30-year Monte Carlo simulation results\n",
    "# Save the results as a variable\n",
    "sum_stats = mc_portfolio.summarize_cumulative_return()\n",
    "\n",
    "# Review the 30-year Monte Carlo summary statistics\n",
    "print(sum_stats)"
   ]
  },
  {
   "cell_type": "markdown",
   "metadata": {},
   "source": [
    "### Analyze the Retirement Portfolio Forecasts\n",
    "\n",
    "Using the current value of only the stock and bond portion of the member's portfolio and the summary statistics that you generated from the Monte Carlo simulation, answer the following question in your Jupyter notebook:\n",
    "\n",
    "-  What are the lower and upper bounds for the expected value of the portfolio with a 95% confidence interval?\n"
   ]
  },
  {
   "cell_type": "code",
   "execution_count": 52,
   "metadata": {},
   "outputs": [
    {
     "name": "stdout",
     "output_type": "stream",
     "text": [
      "The current balance of the stock and bond portion is $57867.30\n"
     ]
    }
   ],
   "source": [
    "# Print the current balance of the stock and bond portion of the members portfolio\n",
    "print(f\"The current balance of the stock and bond portion is ${total_stocks_bonds:0.2f}\")\n"
   ]
  },
  {
   "cell_type": "code",
   "execution_count": 54,
   "metadata": {},
   "outputs": [
    {
     "name": "stdout",
     "output_type": "stream",
     "text": [
      "There is a 95% chance that the stock/bond portfolio investment of $57867.30 will end within the range of $5830685.73 and $47981515.08 over the next 30 years.\n"
     ]
    }
   ],
   "source": [
    "# Use the lower and upper `95%` confidence intervals to calculate the range of the possible outcomes for the current stock/bond portfolio\n",
    "confidence_interval_lower = sum_stats[8]* total_stocks_bonds\n",
    "confidence_interval_upper = sum_stats[9]* total_stocks_bonds\n",
    "\n",
    "# Print the result of your calculations\n",
    "print(f\"There is a 95% chance that the stock/bond portfolio investment of ${total_stocks_bonds:0.2f} will end within the range of ${ci_lower:0.2f} and ${ci_upper:0.2f} over the next 30 years.\")\n"
   ]
  },
  {
   "cell_type": "markdown",
   "metadata": {},
   "source": [
    "### Forecast Cumulative Returns in 10 Years\n",
    "\n",
    "The CTO of the credit union is impressed with your work on these planning tools but wonders if 30 years is a long time to wait until retirement. So, your next task is to adjust the retirement portfolio and run a new Monte Carlo simulation to find out if the changes will allow members to retire earlier.\n",
    "\n",
    "For this new Monte Carlo simulation, do the following: \n",
    "\n",
    "- Forecast the cumulative returns for 10 years from now. Because of the shortened investment horizon (30 years to 10 years), the portfolio needs to invest more heavily in the riskier asset&mdash;that is, stock&mdash;to help accumulate wealth for retirement. \n",
    "\n",
    "- Adjust the weights of the retirement portfolio so that the composition for the Monte Carlo simulation consists of 20% bonds and 80% stocks. \n",
    "\n",
    "- Run the simulation over 500 samples, and use the same data that the API call to Alpaca generated.\n",
    "\n",
    "- Based on the new Monte Carlo simulation, answer the following questions in your Jupyter notebook:\n",
    "\n",
    "    - Using the current value of only the stock and bond portion of the member's portfolio and the summary statistics that you generated from the new Monte Carlo simulation, what are the lower and upper bounds for the expected value of the portfolio (with the new weights) with a 95% confidence interval?\n",
    "\n",
    "    - Will weighting the portfolio more heavily toward stocks allow the credit union members to retire after only 10 years?\n"
   ]
  },
  {
   "cell_type": "code",
   "execution_count": 56,
   "metadata": {},
   "outputs": [
    {
     "data": {
      "text/html": [
       "<div>\n",
       "<style scoped>\n",
       "    .dataframe tbody tr th:only-of-type {\n",
       "        vertical-align: middle;\n",
       "    }\n",
       "\n",
       "    .dataframe tbody tr th {\n",
       "        vertical-align: top;\n",
       "    }\n",
       "\n",
       "    .dataframe thead tr th {\n",
       "        text-align: left;\n",
       "    }\n",
       "\n",
       "    .dataframe thead tr:last-of-type th {\n",
       "        text-align: right;\n",
       "    }\n",
       "</style>\n",
       "<table border=\"1\" class=\"dataframe\">\n",
       "  <thead>\n",
       "    <tr>\n",
       "      <th></th>\n",
       "      <th colspan=\"6\" halign=\"left\">AGG</th>\n",
       "      <th colspan=\"6\" halign=\"left\">SPY</th>\n",
       "    </tr>\n",
       "    <tr>\n",
       "      <th></th>\n",
       "      <th>open</th>\n",
       "      <th>high</th>\n",
       "      <th>low</th>\n",
       "      <th>close</th>\n",
       "      <th>volume</th>\n",
       "      <th>daily_return</th>\n",
       "      <th>open</th>\n",
       "      <th>high</th>\n",
       "      <th>low</th>\n",
       "      <th>close</th>\n",
       "      <th>volume</th>\n",
       "      <th>daily_return</th>\n",
       "    </tr>\n",
       "    <tr>\n",
       "      <th>time</th>\n",
       "      <th></th>\n",
       "      <th></th>\n",
       "      <th></th>\n",
       "      <th></th>\n",
       "      <th></th>\n",
       "      <th></th>\n",
       "      <th></th>\n",
       "      <th></th>\n",
       "      <th></th>\n",
       "      <th></th>\n",
       "      <th></th>\n",
       "      <th></th>\n",
       "    </tr>\n",
       "  </thead>\n",
       "  <tbody>\n",
       "    <tr>\n",
       "      <th>2020-09-15 00:00:00-04:00</th>\n",
       "      <td>118.2900</td>\n",
       "      <td>118.425</td>\n",
       "      <td>118.29</td>\n",
       "      <td>118.38</td>\n",
       "      <td>3634512</td>\n",
       "      <td>NaN</td>\n",
       "      <td>341.12</td>\n",
       "      <td>342.0200</td>\n",
       "      <td>338.4683</td>\n",
       "      <td>340.15</td>\n",
       "      <td>43908367</td>\n",
       "      <td>NaN</td>\n",
       "    </tr>\n",
       "    <tr>\n",
       "      <th>2020-09-16 00:00:00-04:00</th>\n",
       "      <td>118.5300</td>\n",
       "      <td>118.530</td>\n",
       "      <td>118.20</td>\n",
       "      <td>118.32</td>\n",
       "      <td>5190572</td>\n",
       "      <td>-0.000507</td>\n",
       "      <td>341.51</td>\n",
       "      <td>343.0600</td>\n",
       "      <td>338.5200</td>\n",
       "      <td>338.81</td>\n",
       "      <td>70521698</td>\n",
       "      <td>-0.003939</td>\n",
       "    </tr>\n",
       "    <tr>\n",
       "      <th>2020-09-17 00:00:00-04:00</th>\n",
       "      <td>118.4201</td>\n",
       "      <td>118.520</td>\n",
       "      <td>118.33</td>\n",
       "      <td>118.36</td>\n",
       "      <td>4263541</td>\n",
       "      <td>0.000338</td>\n",
       "      <td>333.56</td>\n",
       "      <td>337.6996</td>\n",
       "      <td>332.9910</td>\n",
       "      <td>335.86</td>\n",
       "      <td>80778657</td>\n",
       "      <td>-0.008707</td>\n",
       "    </tr>\n",
       "    <tr>\n",
       "      <th>2020-09-18 00:00:00-04:00</th>\n",
       "      <td>118.3900</td>\n",
       "      <td>118.440</td>\n",
       "      <td>118.18</td>\n",
       "      <td>118.24</td>\n",
       "      <td>4548578</td>\n",
       "      <td>-0.001014</td>\n",
       "      <td>335.37</td>\n",
       "      <td>335.4900</td>\n",
       "      <td>327.9700</td>\n",
       "      <td>330.69</td>\n",
       "      <td>88780313</td>\n",
       "      <td>-0.015393</td>\n",
       "    </tr>\n",
       "    <tr>\n",
       "      <th>2020-09-21 00:00:00-04:00</th>\n",
       "      <td>118.4100</td>\n",
       "      <td>118.420</td>\n",
       "      <td>118.25</td>\n",
       "      <td>118.26</td>\n",
       "      <td>4787684</td>\n",
       "      <td>0.000169</td>\n",
       "      <td>325.70</td>\n",
       "      <td>327.0900</td>\n",
       "      <td>321.7300</td>\n",
       "      <td>327.00</td>\n",
       "      <td>86591719</td>\n",
       "      <td>-0.011158</td>\n",
       "    </tr>\n",
       "  </tbody>\n",
       "</table>\n",
       "</div>"
      ],
      "text/plain": [
       "                                AGG                                    \\\n",
       "                               open     high     low   close   volume   \n",
       "time                                                                    \n",
       "2020-09-15 00:00:00-04:00  118.2900  118.425  118.29  118.38  3634512   \n",
       "2020-09-16 00:00:00-04:00  118.5300  118.530  118.20  118.32  5190572   \n",
       "2020-09-17 00:00:00-04:00  118.4201  118.520  118.33  118.36  4263541   \n",
       "2020-09-18 00:00:00-04:00  118.3900  118.440  118.18  118.24  4548578   \n",
       "2020-09-21 00:00:00-04:00  118.4100  118.420  118.25  118.26  4787684   \n",
       "\n",
       "                                           SPY                              \\\n",
       "                          daily_return    open      high       low   close   \n",
       "time                                                                         \n",
       "2020-09-15 00:00:00-04:00          NaN  341.12  342.0200  338.4683  340.15   \n",
       "2020-09-16 00:00:00-04:00    -0.000507  341.51  343.0600  338.5200  338.81   \n",
       "2020-09-17 00:00:00-04:00     0.000338  333.56  337.6996  332.9910  335.86   \n",
       "2020-09-18 00:00:00-04:00    -0.001014  335.37  335.4900  327.9700  330.69   \n",
       "2020-09-21 00:00:00-04:00     0.000169  325.70  327.0900  321.7300  327.00   \n",
       "\n",
       "                                                  \n",
       "                             volume daily_return  \n",
       "time                                              \n",
       "2020-09-15 00:00:00-04:00  43908367          NaN  \n",
       "2020-09-16 00:00:00-04:00  70521698    -0.003939  \n",
       "2020-09-17 00:00:00-04:00  80778657    -0.008707  \n",
       "2020-09-18 00:00:00-04:00  88780313    -0.015393  \n",
       "2020-09-21 00:00:00-04:00  86591719    -0.011158  "
      ]
     },
     "execution_count": 56,
     "metadata": {},
     "output_type": "execute_result"
    }
   ],
   "source": [
    "# Configure a Monte Carlo simulation to forecast 10 years cumulative returns\n",
    "# The weights should be split 20% to AGG and 80% to SPY\n",
    "# Run 500 samples\n",
    "number_simulation = 500\n",
    "\n",
    "mc_ten_portfolio = MCSimulation(\n",
    "    portfolio_data = pricing_data,\n",
    "    num_simulation = num_simulation,\n",
    "    num_trading_days = 252*10,\n",
    "    weights = [.20,.80]\n",
    ")\n",
    "\n",
    "# Review the simulation input data\n",
    "mc_ten_portfolio.portfolio_data.head()\n"
   ]
  },
  {
   "cell_type": "code",
   "execution_count": 57,
   "metadata": {},
   "outputs": [
    {
     "name": "stdout",
     "output_type": "stream",
     "text": [
      "Running Monte Carlo simulation number 0.\n",
      "Running Monte Carlo simulation number 10.\n",
      "Running Monte Carlo simulation number 20.\n",
      "Running Monte Carlo simulation number 30.\n",
      "Running Monte Carlo simulation number 40.\n",
      "Running Monte Carlo simulation number 50.\n",
      "Running Monte Carlo simulation number 60.\n",
      "Running Monte Carlo simulation number 70.\n",
      "Running Monte Carlo simulation number 80.\n",
      "Running Monte Carlo simulation number 90.\n",
      "Running Monte Carlo simulation number 100.\n",
      "Running Monte Carlo simulation number 110.\n",
      "Running Monte Carlo simulation number 120.\n",
      "Running Monte Carlo simulation number 130.\n",
      "Running Monte Carlo simulation number 140.\n",
      "Running Monte Carlo simulation number 150.\n",
      "Running Monte Carlo simulation number 160.\n",
      "Running Monte Carlo simulation number 170.\n",
      "Running Monte Carlo simulation number 180.\n",
      "Running Monte Carlo simulation number 190.\n",
      "Running Monte Carlo simulation number 200.\n",
      "Running Monte Carlo simulation number 210.\n",
      "Running Monte Carlo simulation number 220.\n",
      "Running Monte Carlo simulation number 230.\n",
      "Running Monte Carlo simulation number 240.\n",
      "Running Monte Carlo simulation number 250.\n",
      "Running Monte Carlo simulation number 260.\n",
      "Running Monte Carlo simulation number 270.\n",
      "Running Monte Carlo simulation number 280.\n",
      "Running Monte Carlo simulation number 290.\n",
      "Running Monte Carlo simulation number 300.\n",
      "Running Monte Carlo simulation number 310.\n",
      "Running Monte Carlo simulation number 320.\n",
      "Running Monte Carlo simulation number 330.\n",
      "Running Monte Carlo simulation number 340.\n",
      "Running Monte Carlo simulation number 350.\n",
      "Running Monte Carlo simulation number 360.\n",
      "Running Monte Carlo simulation number 370.\n",
      "Running Monte Carlo simulation number 380.\n",
      "Running Monte Carlo simulation number 390.\n",
      "Running Monte Carlo simulation number 400.\n",
      "Running Monte Carlo simulation number 410.\n",
      "Running Monte Carlo simulation number 420.\n",
      "Running Monte Carlo simulation number 430.\n",
      "Running Monte Carlo simulation number 440.\n",
      "Running Monte Carlo simulation number 450.\n",
      "Running Monte Carlo simulation number 460.\n",
      "Running Monte Carlo simulation number 470.\n",
      "Running Monte Carlo simulation number 480.\n",
      "Running Monte Carlo simulation number 490.\n"
     ]
    },
    {
     "data": {
      "text/html": [
       "<div>\n",
       "<style scoped>\n",
       "    .dataframe tbody tr th:only-of-type {\n",
       "        vertical-align: middle;\n",
       "    }\n",
       "\n",
       "    .dataframe tbody tr th {\n",
       "        vertical-align: top;\n",
       "    }\n",
       "\n",
       "    .dataframe thead th {\n",
       "        text-align: right;\n",
       "    }\n",
       "</style>\n",
       "<table border=\"1\" class=\"dataframe\">\n",
       "  <thead>\n",
       "    <tr style=\"text-align: right;\">\n",
       "      <th></th>\n",
       "      <th>0</th>\n",
       "      <th>1</th>\n",
       "      <th>2</th>\n",
       "      <th>3</th>\n",
       "      <th>4</th>\n",
       "      <th>5</th>\n",
       "      <th>6</th>\n",
       "      <th>7</th>\n",
       "      <th>8</th>\n",
       "      <th>9</th>\n",
       "      <th>...</th>\n",
       "      <th>490</th>\n",
       "      <th>491</th>\n",
       "      <th>492</th>\n",
       "      <th>493</th>\n",
       "      <th>494</th>\n",
       "      <th>495</th>\n",
       "      <th>496</th>\n",
       "      <th>497</th>\n",
       "      <th>498</th>\n",
       "      <th>499</th>\n",
       "    </tr>\n",
       "  </thead>\n",
       "  <tbody>\n",
       "    <tr>\n",
       "      <th>0</th>\n",
       "      <td>1.000000</td>\n",
       "      <td>1.000000</td>\n",
       "      <td>1.000000</td>\n",
       "      <td>1.000000</td>\n",
       "      <td>1.000000</td>\n",
       "      <td>1.000000</td>\n",
       "      <td>1.000000</td>\n",
       "      <td>1.000000</td>\n",
       "      <td>1.000000</td>\n",
       "      <td>1.000000</td>\n",
       "      <td>...</td>\n",
       "      <td>1.000000</td>\n",
       "      <td>1.000000</td>\n",
       "      <td>1.000000</td>\n",
       "      <td>1.000000</td>\n",
       "      <td>1.000000</td>\n",
       "      <td>1.000000</td>\n",
       "      <td>1.000000</td>\n",
       "      <td>1.000000</td>\n",
       "      <td>1.000000</td>\n",
       "      <td>1.000000</td>\n",
       "    </tr>\n",
       "    <tr>\n",
       "      <th>1</th>\n",
       "      <td>1.004000</td>\n",
       "      <td>0.999283</td>\n",
       "      <td>1.009219</td>\n",
       "      <td>1.013564</td>\n",
       "      <td>0.994173</td>\n",
       "      <td>1.004208</td>\n",
       "      <td>0.994898</td>\n",
       "      <td>1.000875</td>\n",
       "      <td>0.996175</td>\n",
       "      <td>1.021189</td>\n",
       "      <td>...</td>\n",
       "      <td>0.989427</td>\n",
       "      <td>0.992885</td>\n",
       "      <td>1.004961</td>\n",
       "      <td>0.990793</td>\n",
       "      <td>1.004864</td>\n",
       "      <td>0.998861</td>\n",
       "      <td>1.009448</td>\n",
       "      <td>0.996873</td>\n",
       "      <td>0.997815</td>\n",
       "      <td>0.996047</td>\n",
       "    </tr>\n",
       "    <tr>\n",
       "      <th>2</th>\n",
       "      <td>1.010613</td>\n",
       "      <td>0.998258</td>\n",
       "      <td>1.021625</td>\n",
       "      <td>1.023225</td>\n",
       "      <td>0.998514</td>\n",
       "      <td>1.006794</td>\n",
       "      <td>0.991863</td>\n",
       "      <td>1.017662</td>\n",
       "      <td>0.998501</td>\n",
       "      <td>1.010031</td>\n",
       "      <td>...</td>\n",
       "      <td>0.993398</td>\n",
       "      <td>0.983906</td>\n",
       "      <td>1.006147</td>\n",
       "      <td>0.984738</td>\n",
       "      <td>1.004150</td>\n",
       "      <td>1.003902</td>\n",
       "      <td>1.012282</td>\n",
       "      <td>0.987746</td>\n",
       "      <td>0.996772</td>\n",
       "      <td>0.997112</td>\n",
       "    </tr>\n",
       "    <tr>\n",
       "      <th>3</th>\n",
       "      <td>1.005655</td>\n",
       "      <td>1.006662</td>\n",
       "      <td>1.013670</td>\n",
       "      <td>1.010677</td>\n",
       "      <td>0.989167</td>\n",
       "      <td>0.992137</td>\n",
       "      <td>0.992153</td>\n",
       "      <td>1.021028</td>\n",
       "      <td>1.012869</td>\n",
       "      <td>1.009500</td>\n",
       "      <td>...</td>\n",
       "      <td>1.008582</td>\n",
       "      <td>0.978374</td>\n",
       "      <td>0.984993</td>\n",
       "      <td>0.984213</td>\n",
       "      <td>0.997542</td>\n",
       "      <td>1.007942</td>\n",
       "      <td>1.011176</td>\n",
       "      <td>0.992978</td>\n",
       "      <td>0.994751</td>\n",
       "      <td>0.995613</td>\n",
       "    </tr>\n",
       "    <tr>\n",
       "      <th>4</th>\n",
       "      <td>1.009026</td>\n",
       "      <td>0.995479</td>\n",
       "      <td>1.019920</td>\n",
       "      <td>1.014159</td>\n",
       "      <td>0.991590</td>\n",
       "      <td>0.983032</td>\n",
       "      <td>0.997879</td>\n",
       "      <td>1.042039</td>\n",
       "      <td>1.017499</td>\n",
       "      <td>1.011077</td>\n",
       "      <td>...</td>\n",
       "      <td>1.003615</td>\n",
       "      <td>0.991511</td>\n",
       "      <td>0.976281</td>\n",
       "      <td>0.990486</td>\n",
       "      <td>0.995475</td>\n",
       "      <td>1.010701</td>\n",
       "      <td>1.008159</td>\n",
       "      <td>1.003797</td>\n",
       "      <td>0.973201</td>\n",
       "      <td>1.000336</td>\n",
       "    </tr>\n",
       "    <tr>\n",
       "      <th>...</th>\n",
       "      <td>...</td>\n",
       "      <td>...</td>\n",
       "      <td>...</td>\n",
       "      <td>...</td>\n",
       "      <td>...</td>\n",
       "      <td>...</td>\n",
       "      <td>...</td>\n",
       "      <td>...</td>\n",
       "      <td>...</td>\n",
       "      <td>...</td>\n",
       "      <td>...</td>\n",
       "      <td>...</td>\n",
       "      <td>...</td>\n",
       "      <td>...</td>\n",
       "      <td>...</td>\n",
       "      <td>...</td>\n",
       "      <td>...</td>\n",
       "      <td>...</td>\n",
       "      <td>...</td>\n",
       "      <td>...</td>\n",
       "      <td>...</td>\n",
       "    </tr>\n",
       "    <tr>\n",
       "      <th>2516</th>\n",
       "      <td>7.578543</td>\n",
       "      <td>9.786302</td>\n",
       "      <td>6.061925</td>\n",
       "      <td>23.549940</td>\n",
       "      <td>8.018670</td>\n",
       "      <td>17.064180</td>\n",
       "      <td>6.369599</td>\n",
       "      <td>9.475581</td>\n",
       "      <td>20.371192</td>\n",
       "      <td>10.919978</td>\n",
       "      <td>...</td>\n",
       "      <td>16.273763</td>\n",
       "      <td>11.747599</td>\n",
       "      <td>22.948707</td>\n",
       "      <td>21.481934</td>\n",
       "      <td>13.590618</td>\n",
       "      <td>11.237156</td>\n",
       "      <td>17.925981</td>\n",
       "      <td>11.799702</td>\n",
       "      <td>17.640619</td>\n",
       "      <td>15.028590</td>\n",
       "    </tr>\n",
       "    <tr>\n",
       "      <th>2517</th>\n",
       "      <td>7.498122</td>\n",
       "      <td>9.832648</td>\n",
       "      <td>6.000110</td>\n",
       "      <td>23.585256</td>\n",
       "      <td>7.995206</td>\n",
       "      <td>17.038800</td>\n",
       "      <td>6.381510</td>\n",
       "      <td>9.417609</td>\n",
       "      <td>20.515859</td>\n",
       "      <td>10.954397</td>\n",
       "      <td>...</td>\n",
       "      <td>16.362749</td>\n",
       "      <td>11.685123</td>\n",
       "      <td>22.983620</td>\n",
       "      <td>21.577526</td>\n",
       "      <td>13.602720</td>\n",
       "      <td>11.225328</td>\n",
       "      <td>17.946781</td>\n",
       "      <td>11.670047</td>\n",
       "      <td>17.677809</td>\n",
       "      <td>15.015613</td>\n",
       "    </tr>\n",
       "    <tr>\n",
       "      <th>2518</th>\n",
       "      <td>7.503542</td>\n",
       "      <td>9.735692</td>\n",
       "      <td>6.039145</td>\n",
       "      <td>23.403749</td>\n",
       "      <td>7.976081</td>\n",
       "      <td>17.044446</td>\n",
       "      <td>6.439044</td>\n",
       "      <td>9.349701</td>\n",
       "      <td>20.460641</td>\n",
       "      <td>10.918517</td>\n",
       "      <td>...</td>\n",
       "      <td>16.583387</td>\n",
       "      <td>11.756959</td>\n",
       "      <td>23.029740</td>\n",
       "      <td>21.679394</td>\n",
       "      <td>13.675679</td>\n",
       "      <td>11.277985</td>\n",
       "      <td>17.943247</td>\n",
       "      <td>11.724316</td>\n",
       "      <td>17.687033</td>\n",
       "      <td>15.102357</td>\n",
       "    </tr>\n",
       "    <tr>\n",
       "      <th>2519</th>\n",
       "      <td>7.532962</td>\n",
       "      <td>9.888232</td>\n",
       "      <td>6.117321</td>\n",
       "      <td>23.735406</td>\n",
       "      <td>7.986480</td>\n",
       "      <td>16.961091</td>\n",
       "      <td>6.470750</td>\n",
       "      <td>9.219157</td>\n",
       "      <td>20.210546</td>\n",
       "      <td>10.835701</td>\n",
       "      <td>...</td>\n",
       "      <td>16.609209</td>\n",
       "      <td>11.622376</td>\n",
       "      <td>23.368540</td>\n",
       "      <td>21.577182</td>\n",
       "      <td>13.670269</td>\n",
       "      <td>11.314556</td>\n",
       "      <td>17.890590</td>\n",
       "      <td>11.713176</td>\n",
       "      <td>17.642364</td>\n",
       "      <td>15.194465</td>\n",
       "    </tr>\n",
       "    <tr>\n",
       "      <th>2520</th>\n",
       "      <td>7.566759</td>\n",
       "      <td>9.991839</td>\n",
       "      <td>6.000672</td>\n",
       "      <td>23.578758</td>\n",
       "      <td>7.902677</td>\n",
       "      <td>16.946870</td>\n",
       "      <td>6.416035</td>\n",
       "      <td>9.224434</td>\n",
       "      <td>20.276999</td>\n",
       "      <td>10.901140</td>\n",
       "      <td>...</td>\n",
       "      <td>16.615561</td>\n",
       "      <td>11.652150</td>\n",
       "      <td>23.377988</td>\n",
       "      <td>21.553842</td>\n",
       "      <td>13.695210</td>\n",
       "      <td>11.194679</td>\n",
       "      <td>17.746046</td>\n",
       "      <td>11.946587</td>\n",
       "      <td>17.474965</td>\n",
       "      <td>15.373855</td>\n",
       "    </tr>\n",
       "  </tbody>\n",
       "</table>\n",
       "<p>2521 rows × 500 columns</p>\n",
       "</div>"
      ],
      "text/plain": [
       "           0         1         2          3         4          5         6    \\\n",
       "0     1.000000  1.000000  1.000000   1.000000  1.000000   1.000000  1.000000   \n",
       "1     1.004000  0.999283  1.009219   1.013564  0.994173   1.004208  0.994898   \n",
       "2     1.010613  0.998258  1.021625   1.023225  0.998514   1.006794  0.991863   \n",
       "3     1.005655  1.006662  1.013670   1.010677  0.989167   0.992137  0.992153   \n",
       "4     1.009026  0.995479  1.019920   1.014159  0.991590   0.983032  0.997879   \n",
       "...        ...       ...       ...        ...       ...        ...       ...   \n",
       "2516  7.578543  9.786302  6.061925  23.549940  8.018670  17.064180  6.369599   \n",
       "2517  7.498122  9.832648  6.000110  23.585256  7.995206  17.038800  6.381510   \n",
       "2518  7.503542  9.735692  6.039145  23.403749  7.976081  17.044446  6.439044   \n",
       "2519  7.532962  9.888232  6.117321  23.735406  7.986480  16.961091  6.470750   \n",
       "2520  7.566759  9.991839  6.000672  23.578758  7.902677  16.946870  6.416035   \n",
       "\n",
       "           7          8          9    ...        490        491        492  \\\n",
       "0     1.000000   1.000000   1.000000  ...   1.000000   1.000000   1.000000   \n",
       "1     1.000875   0.996175   1.021189  ...   0.989427   0.992885   1.004961   \n",
       "2     1.017662   0.998501   1.010031  ...   0.993398   0.983906   1.006147   \n",
       "3     1.021028   1.012869   1.009500  ...   1.008582   0.978374   0.984993   \n",
       "4     1.042039   1.017499   1.011077  ...   1.003615   0.991511   0.976281   \n",
       "...        ...        ...        ...  ...        ...        ...        ...   \n",
       "2516  9.475581  20.371192  10.919978  ...  16.273763  11.747599  22.948707   \n",
       "2517  9.417609  20.515859  10.954397  ...  16.362749  11.685123  22.983620   \n",
       "2518  9.349701  20.460641  10.918517  ...  16.583387  11.756959  23.029740   \n",
       "2519  9.219157  20.210546  10.835701  ...  16.609209  11.622376  23.368540   \n",
       "2520  9.224434  20.276999  10.901140  ...  16.615561  11.652150  23.377988   \n",
       "\n",
       "            493        494        495        496        497        498  \\\n",
       "0      1.000000   1.000000   1.000000   1.000000   1.000000   1.000000   \n",
       "1      0.990793   1.004864   0.998861   1.009448   0.996873   0.997815   \n",
       "2      0.984738   1.004150   1.003902   1.012282   0.987746   0.996772   \n",
       "3      0.984213   0.997542   1.007942   1.011176   0.992978   0.994751   \n",
       "4      0.990486   0.995475   1.010701   1.008159   1.003797   0.973201   \n",
       "...         ...        ...        ...        ...        ...        ...   \n",
       "2516  21.481934  13.590618  11.237156  17.925981  11.799702  17.640619   \n",
       "2517  21.577526  13.602720  11.225328  17.946781  11.670047  17.677809   \n",
       "2518  21.679394  13.675679  11.277985  17.943247  11.724316  17.687033   \n",
       "2519  21.577182  13.670269  11.314556  17.890590  11.713176  17.642364   \n",
       "2520  21.553842  13.695210  11.194679  17.746046  11.946587  17.474965   \n",
       "\n",
       "            499  \n",
       "0      1.000000  \n",
       "1      0.996047  \n",
       "2      0.997112  \n",
       "3      0.995613  \n",
       "4      1.000336  \n",
       "...         ...  \n",
       "2516  15.028590  \n",
       "2517  15.015613  \n",
       "2518  15.102357  \n",
       "2519  15.194465  \n",
       "2520  15.373855  \n",
       "\n",
       "[2521 rows x 500 columns]"
      ]
     },
     "execution_count": 57,
     "metadata": {},
     "output_type": "execute_result"
    }
   ],
   "source": [
    "# Run the Monte Carlo simulation to forecast 10 years cumulative returns\n",
    "mc_ten_portfolio.calc_cumulative_return()\n"
   ]
  },
  {
   "cell_type": "code",
   "execution_count": 58,
   "metadata": {},
   "outputs": [
    {
     "data": {
      "text/plain": [
       "<AxesSubplot:title={'center':'500 Simulations of Cumulative Portfolio Return Trajectories Over the Next 2520 Trading Days.'}>"
      ]
     },
     "execution_count": 58,
     "metadata": {},
     "output_type": "execute_result"
    },
    {
     "data": {
      "image/png": "[encoded data removed]",
      "text/plain": [
       "<Figure size 432x288 with 1 Axes>"
      ]
     },
     "metadata": {
      "needs_background": "light"
     },
     "output_type": "display_data"
    }
   ],
   "source": [
    "# Visualize the 10-year Monte Carlo simulation by creating an overlay line plot\n",
    "mc_ten_portfolio.plot_simulation()\n"
   ]
  },
  {
   "cell_type": "code",
   "execution_count": 59,
   "metadata": {},
   "outputs": [
    {
     "data": {
      "text/plain": [
       "<AxesSubplot:title={'center':'Distribution of Final Cumuluative Returns Across All 500 Simulations'}, ylabel='Frequency'>"
      ]
     },
     "execution_count": 59,
     "metadata": {},
     "output_type": "execute_result"
    },
    {
     "data": {
      "image/png": "[encoded data removed]",
      "text/plain": [
       "<Figure size 432x288 with 1 Axes>"
      ]
     },
     "metadata": {
      "needs_background": "light"
     },
     "output_type": "display_data"
    }
   ],
   "source": [
    "\n",
    "# Visualize the probability distribution of the 10-year Monte Carlo simulation by plotting a histogram\n",
    "mc_ten_portfolio.plot_distribution()\n"
   ]
  },
  {
   "cell_type": "code",
   "execution_count": 61,
   "metadata": {},
   "outputs": [
    {
     "name": "stdout",
     "output_type": "stream",
     "text": [
      "count           500.000000\n",
      "mean             14.544780\n",
      "std               6.594885\n",
      "min               3.443399\n",
      "25%               9.978670\n",
      "50%              13.350638\n",
      "75%              17.796410\n",
      "max              48.233035\n",
      "95% CI Lower      5.625284\n",
      "95% CI Upper     31.105432\n",
      "Name: 2520, dtype: float64\n"
     ]
    }
   ],
   "source": [
    "# Generate summary statistics from the 10-year Monte Carlo simulation results\n",
    "# Save the results as a variable\n",
    "ten_sim_stats = mc_ten_portfolio.summarize_cumulative_return()\n",
    "\n",
    "# Review the 10-year Monte Carlo summary statistics\n",
    "print(ten_sum_stats)"
   ]
  },
  {
   "cell_type": "markdown",
   "metadata": {},
   "source": [
    "### Answer the following questions:"
   ]
  },
  {
   "cell_type": "markdown",
   "metadata": {},
   "source": [
    "#### Question: Using the current value of only the stock and bond portion of the member's portfolio and the summary statistics that you generated from the new Monte Carlo simulation, what are the lower and upper bounds for the expected value of the portfolio (with the new weights) with a 95% confidence interval?"
   ]
  },
  {
   "cell_type": "code",
   "execution_count": 62,
   "metadata": {},
   "outputs": [
    {
     "name": "stdout",
     "output_type": "stream",
     "text": [
      "The current balance of the stock and bond portion is $57867.30\n"
     ]
    }
   ],
   "source": [
    "\n",
    "# Print the current balance of the stock and bond portion of the members portfolio\n",
    "print(f\"The current balance of the stock and bond portion is ${total_stocks_bonds:0.2f}\")\n"
   ]
  },
  {
   "cell_type": "code",
   "execution_count": 63,
   "metadata": {},
   "outputs": [
    {
     "name": "stdout",
     "output_type": "stream",
     "text": [
      "There is a 95% chance that the stock/bond portfolio investment of $57867.30 will end within the range of $325519.98 and $1799987.36 over the next 10 years.\n"
     ]
    }
   ],
   "source": [
    "# Use the lower and upper `95%` confidence intervals to calculate the range of the possible outcomes for the current stock/bond portfolio\n",
    "ci_lower_ten = ten_sum_stats[8] * total_stocks_bonds\n",
    "ci_upper_ten = ten_sum_stats[9]* total_stocks_bonds\n",
    "\n",
    "# Print the result of your calculations\n",
    "print(f\"There is a 95% chance that the stock/bond portfolio investment of ${total_stocks_bonds:0.2f} will end within the range of ${ci_lower_ten:0.2f} and ${ci_upper_ten:0.2f} over the next 10 years.\")\n"
   ]
  },
  {
   "cell_type": "markdown",
   "metadata": {},
   "source": [
    "#### Question: Will weighting the portfolio more heavily to stocks allow the credit union members to retire after only 10 years?"
   ]
  },
  {
   "cell_type": "raw",
   "metadata": {},
   "source": [
    "By weighting the portfolio more heavily on stocks on a 10 year plan, it would meet the members savings financial goals. This can help them to prepare for any emergencies, however if majority of the portfolio is weighted on stocks it will not meet their required income of 12,000 monthly income on a 10 year plan."
   ]
  },
  {
   "cell_type": "code",
   "execution_count": null,
   "metadata": {},
   "outputs": [],
   "source": []
  }
 ],
 "metadata": {
  "kernelspec": {
   "display_name": "Python (dev)",
   "language": "python",
   "name": "dev"
  },
  "language_info": {
   "codemirror_mode": {
    "name": "ipython",
    "version": 3
   },
   "file_extension": ".py",
   "mimetype": "text/x-python",
   "name": "python",
   "nbconvert_exporter": "python",
   "pygments_lexer": "ipython3",
   "version": "3.7.9"
  }
 },
 "nbformat": 4,
 "nbformat_minor": 4
}
